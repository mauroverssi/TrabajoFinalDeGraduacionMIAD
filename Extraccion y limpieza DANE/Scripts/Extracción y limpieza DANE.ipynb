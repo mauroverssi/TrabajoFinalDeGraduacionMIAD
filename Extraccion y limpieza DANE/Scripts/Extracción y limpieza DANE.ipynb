{
 "cells": [
  {
   "cell_type": "markdown",
   "source": [
    "# Extracción de IPM por departamentos"
   ],
   "metadata": {
    "collapsed": false
   }
  },
  {
   "cell_type": "code",
   "execution_count": 13,
   "outputs": [],
   "source": [
    "import pandas as pd"
   ],
   "metadata": {
    "collapsed": false,
    "ExecuteTime": {
     "start_time": "2023-05-10T11:16:58.126660Z",
     "end_time": "2023-05-10T11:16:58.139661Z"
    }
   }
  },
  {
   "cell_type": "code",
   "execution_count": 39,
   "outputs": [],
   "source": [
    "#IPM departamentoes\n",
    "# Ruta al archivo Excel\n",
    "ruta_archivo = r\"G:\\Unidades compartidas\\Mau\\TrabajoFinalDeGraduacionMIAD\\Extraccion y limpieza DANE\\datos\\anexo_dptal_pobreza_multidimensional_21.xls\"\n"
   ],
   "metadata": {
    "collapsed": false,
    "ExecuteTime": {
     "start_time": "2023-05-10T11:37:30.305483Z",
     "end_time": "2023-05-10T11:37:30.313481Z"
    }
   }
  },
  {
   "cell_type": "code",
   "execution_count": 40,
   "outputs": [],
   "source": [
    "# Nombre de la hoja donde están los datos\n",
    "nombre_hoja = \"IPM_Departamentos\""
   ],
   "metadata": {
    "collapsed": false,
    "ExecuteTime": {
     "start_time": "2023-05-10T11:37:31.469197Z",
     "end_time": "2023-05-10T11:37:31.480199Z"
    }
   }
  },
  {
   "cell_type": "code",
   "execution_count": 41,
   "outputs": [],
   "source": [
    "# Saltar las primeras 15 filas y leer las filas 16 a 24\n",
    "ipm_departamentos = pd.read_excel(ruta_archivo, sheet_name=nombre_hoja, skiprows=range(14), nrows=33)\n",
    "\n"
   ],
   "metadata": {
    "collapsed": false,
    "ExecuteTime": {
     "start_time": "2023-05-10T11:37:32.414001Z",
     "end_time": "2023-05-10T11:37:32.522521Z"
    }
   }
  },
  {
   "cell_type": "code",
   "execution_count": 42,
   "outputs": [],
   "source": [
    "ipm_departamentos_2018 = ipm_departamentos.iloc[:, :4]\n",
    "ipm_departamentos_2019 = ipm_departamentos.iloc[:, [0, 4, 5, 6]]\n",
    "ipm_departamentos_2020 = ipm_departamentos.iloc[:, [0, 7, 8, 9]]\n",
    "ipm_departamentos_2021 = ipm_departamentos.iloc[:, [0, 10, 11, 12]]"
   ],
   "metadata": {
    "collapsed": false,
    "ExecuteTime": {
     "start_time": "2023-05-10T11:37:33.195967Z",
     "end_time": "2023-05-10T11:37:33.199968Z"
    }
   }
  },
  {
   "cell_type": "code",
   "execution_count": 43,
   "outputs": [],
   "source": [
    "ipm_departamentos_2018.columns = ['departamento', 'total', 'cabeceras', 'centros_poblados_rural_disperso']\n",
    "ipm_departamentos_2019.columns = ['departamento', 'total', 'cabeceras', 'centros_poblados_rural_disperso']\n",
    "ipm_departamentos_2020.columns = ['departamento', 'total', 'cabeceras', 'centros_poblados_rural_disperso']\n",
    "ipm_departamentos_2021.columns = ['departamento', 'total', 'cabeceras', 'centros_poblados_rural_disperso']\n"
   ],
   "metadata": {
    "collapsed": false,
    "ExecuteTime": {
     "start_time": "2023-05-10T11:37:34.272601Z",
     "end_time": "2023-05-10T11:37:34.288596Z"
    }
   }
  },
  {
   "cell_type": "code",
   "execution_count": 44,
   "outputs": [],
   "source": [
    "# Crear columna ipm utilizando melt\n",
    "ipm_departamentos_2018 = ipm_departamentos_2018.melt(id_vars=['departamento'], value_vars=['total', 'cabeceras', 'centros_poblados_rural_disperso'], var_name='tipo', value_name='ipm')\n",
    "ipm_departamentos_2019 = ipm_departamentos_2019.melt(id_vars=['departamento'], value_vars=['total', 'cabeceras', 'centros_poblados_rural_disperso'], var_name='tipo', value_name='ipm')\n",
    "ipm_departamentos_2020 = ipm_departamentos_2020.melt(id_vars=['departamento'], value_vars=['total', 'cabeceras', 'centros_poblados_rural_disperso'], var_name='tipo', value_name='ipm')\n",
    "ipm_departamentos_2021 = ipm_departamentos_2021.melt(id_vars=['departamento'], value_vars=['total', 'cabeceras', 'centros_poblados_rural_disperso'], var_name='tipo', value_name='ipm')\n",
    "\n",
    "# Crear columna tipo\n",
    "ipm_departamentos_2018['tipo'] = ipm_departamentos_2018['tipo'].map({'total': 'total', 'cabeceras': 'cabeceras', 'centros_poblados_rural_disperso': 'centros_poblados_rural_disperso'})\n",
    "ipm_departamentos_2019['tipo'] = ipm_departamentos_2019['tipo'].map({'total': 'total', 'cabeceras': 'cabeceras', 'centros_poblados_rural_disperso': 'centros_poblados_rural_disperso'})\n",
    "ipm_departamentos_2020['tipo'] = ipm_departamentos_2020['tipo'].map({'total': 'total', 'cabeceras': 'cabeceras', 'centros_poblados_rural_disperso': 'centros_poblados_rural_disperso'})\n",
    "ipm_departamentos_2021['tipo'] = ipm_departamentos_2021['tipo'].map({'total': 'total', 'cabeceras': 'cabeceras', 'centros_poblados_rural_disperso': 'centros_poblados_rural_disperso'})\n",
    "\n",
    "# Seleccionar columnas deseadas\n",
    "ipm_departamentos_2018 = ipm_departamentos_2018.loc[:, ['departamento', 'ipm', 'tipo']]\n",
    "ipm_departamentos_2019 = ipm_departamentos_2019.loc[:, ['departamento', 'ipm', 'tipo']]\n",
    "ipm_departamentos_2020 = ipm_departamentos_2020.loc[:, ['departamento', 'ipm', 'tipo']]\n",
    "ipm_departamentos_2021 = ipm_departamentos_2021.loc[:, ['departamento', 'ipm', 'tipo']]\n"
   ],
   "metadata": {
    "collapsed": false,
    "ExecuteTime": {
     "start_time": "2023-05-10T11:37:35.077750Z",
     "end_time": "2023-05-10T11:37:35.107287Z"
    }
   }
  },
  {
   "cell_type": "code",
   "execution_count": 46,
   "outputs": [],
   "source": [
    "# Crear columna año\n",
    "ipm_departamentos_2018['año'] = 2018\n",
    "ipm_departamentos_2019['año'] = 2019\n",
    "ipm_departamentos_2020['año'] = 2020\n",
    "ipm_departamentos_2021['año'] = 2021\n",
    "\n"
   ],
   "metadata": {
    "collapsed": false,
    "ExecuteTime": {
     "start_time": "2023-05-10T11:38:18.727868Z",
     "end_time": "2023-05-10T11:38:18.740877Z"
    }
   }
  },
  {
   "cell_type": "code",
   "execution_count": 47,
   "outputs": [],
   "source": [
    "# Concatenar\n",
    "ipm_departamentos = pd.concat([ipm_departamentos_2018, ipm_departamentos_2019, ipm_departamentos_2020, ipm_departamentos_2021], axis=0)\n"
   ],
   "metadata": {
    "collapsed": false,
    "ExecuteTime": {
     "start_time": "2023-05-10T11:38:34.863872Z",
     "end_time": "2023-05-10T11:38:34.882879Z"
    }
   }
  },
  {
   "cell_type": "code",
   "execution_count": 50,
   "outputs": [],
   "source": [
    " #Resetear el índice del DataFrame\n",
    "ipm_departamentos_final = ipm_departamentos.reset_index(drop=True)"
   ],
   "metadata": {
    "collapsed": false,
    "ExecuteTime": {
     "start_time": "2023-05-10T11:40:07.419461Z",
     "end_time": "2023-05-10T11:40:07.426459Z"
    }
   }
  },
  {
   "cell_type": "code",
   "execution_count": 52,
   "outputs": [],
   "source": [
    "#Extraer departamentos\n",
    "departamentos_unicos = ipm_departamentos_final[\"departamento\"].unique()"
   ],
   "metadata": {
    "collapsed": false,
    "ExecuteTime": {
     "start_time": "2023-05-10T11:40:46.123316Z",
     "end_time": "2023-05-10T11:40:46.150831Z"
    }
   }
  },
  {
   "cell_type": "code",
   "execution_count": 58,
   "outputs": [],
   "source": [
    "departamentos = pd.DataFrame(departamentos_unicos, columns=[\"region\"])\n",
    "\n",
    "departamentos.to_csv(r'G:\\Unidades compartidas\\Mau\\TrabajoFinalDeGraduacionMIAD\\Extraccion y limpieza DANE\\salidas\\departamentos.csv', index=False)"
   ],
   "metadata": {
    "collapsed": false,
    "ExecuteTime": {
     "start_time": "2023-05-10T11:43:55.856129Z",
     "end_time": "2023-05-10T11:43:55.865128Z"
    }
   }
  },
  {
   "cell_type": "code",
   "execution_count": 57,
   "outputs": [],
   "source": [
    "# Guardar el DataFrame ipm_departamentos_final como un archivo CSV\n",
    "ipm_departamentos.to_csv(r'G:\\Unidades compartidas\\Mau\\TrabajoFinalDeGraduacionMIAD\\Extraccion y limpieza DANE\\salidas\\ipm_departamentos.csv', index=False)"
   ],
   "metadata": {
    "collapsed": false,
    "ExecuteTime": {
     "start_time": "2023-05-10T11:43:19.092879Z",
     "end_time": "2023-05-10T11:43:19.112402Z"
    }
   }
  },
  {
   "cell_type": "code",
   "execution_count": null,
   "outputs": [],
   "source": [],
   "metadata": {
    "collapsed": false
   }
  }
 ],
 "metadata": {
  "kernelspec": {
   "display_name": "Python 3",
   "language": "python",
   "name": "python3"
  },
  "language_info": {
   "codemirror_mode": {
    "name": "ipython",
    "version": 2
   },
   "file_extension": ".py",
   "mimetype": "text/x-python",
   "name": "python",
   "nbconvert_exporter": "python",
   "pygments_lexer": "ipython2",
   "version": "2.7.6"
  }
 },
 "nbformat": 4,
 "nbformat_minor": 0
}
