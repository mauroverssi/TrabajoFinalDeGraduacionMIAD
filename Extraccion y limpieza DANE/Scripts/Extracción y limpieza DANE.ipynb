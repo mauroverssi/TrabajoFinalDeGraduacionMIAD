{
 "cells": [
  {
   "cell_type": "markdown",
   "source": [
    "# Extracción de IPM por departamentos"
   ],
   "metadata": {
    "collapsed": false
   }
  },
  {
   "cell_type": "code",
   "execution_count": 13,
   "outputs": [],
   "source": [
    "import pandas as pd"
   ],
   "metadata": {
    "collapsed": false,
    "ExecuteTime": {
     "start_time": "2023-05-10T11:16:58.126660Z",
     "end_time": "2023-05-10T11:16:58.139661Z"
    }
   }
  },
  {
   "cell_type": "code",
   "execution_count": 39,
   "outputs": [],
   "source": [
    "#IPM departamentoes\n",
    "# Ruta al archivo Excel\n",
    "ruta_archivo = r\"G:\\Unidades compartidas\\Mau\\TrabajoFinalDeGraduacionMIAD\\Extraccion y limpieza DANE\\datos\\anexo_dptal_pobreza_multidimensional_21.xls\"\n"
   ],
   "metadata": {
    "collapsed": false,
    "ExecuteTime": {
     "start_time": "2023-05-10T11:37:30.305483Z",
     "end_time": "2023-05-10T11:37:30.313481Z"
    }
   }
  },
  {
   "cell_type": "code",
   "execution_count": 40,
   "outputs": [],
   "source": [
    "# Nombre de la hoja donde están los datos\n",
    "nombre_hoja = \"IPM_Departamentos\""
   ],
   "metadata": {
    "collapsed": false,
    "ExecuteTime": {
     "start_time": "2023-05-10T11:37:31.469197Z",
     "end_time": "2023-05-10T11:37:31.480199Z"
    }
   }
  },
  {
   "cell_type": "code",
   "execution_count": 41,
   "outputs": [],
   "source": [
    "# Saltar las primeras 15 filas y leer las filas 16 a 24\n",
    "ipm_departamentos = pd.read_excel(ruta_archivo, sheet_name=nombre_hoja, skiprows=range(14), nrows=33)\n",
    "\n"
   ],
   "metadata": {
    "collapsed": false,
    "ExecuteTime": {
     "start_time": "2023-05-10T11:37:32.414001Z",
     "end_time": "2023-05-10T11:37:32.522521Z"
    }
   }
  },
  {
   "cell_type": "code",
   "execution_count": 42,
   "outputs": [],
   "source": [
    "ipm_departamentos_2018 = ipm_departamentos.iloc[:, :4]\n",
    "ipm_departamentos_2019 = ipm_departamentos.iloc[:, [0, 4, 5, 6]]\n",
    "ipm_departamentos_2020 = ipm_departamentos.iloc[:, [0, 7, 8, 9]]\n",
    "ipm_departamentos_2021 = ipm_departamentos.iloc[:, [0, 10, 11, 12]]"
   ],
   "metadata": {
    "collapsed": false,
    "ExecuteTime": {
     "start_time": "2023-05-10T11:37:33.195967Z",
     "end_time": "2023-05-10T11:37:33.199968Z"
    }
   }
  },
  {
   "cell_type": "code",
   "execution_count": 43,
   "outputs": [],
   "source": [
    "ipm_departamentos_2018.columns = ['departamento', 'total', 'cabeceras', 'centros_poblados_rural_disperso']\n",
    "ipm_departamentos_2019.columns = ['departamento', 'total', 'cabeceras', 'centros_poblados_rural_disperso']\n",
    "ipm_departamentos_2020.columns = ['departamento', 'total', 'cabeceras', 'centros_poblados_rural_disperso']\n",
    "ipm_departamentos_2021.columns = ['departamento', 'total', 'cabeceras', 'centros_poblados_rural_disperso']\n"
   ],
   "metadata": {
    "collapsed": false,
    "ExecuteTime": {
     "start_time": "2023-05-10T11:37:34.272601Z",
     "end_time": "2023-05-10T11:37:34.288596Z"
    }
   }
  },
  {
   "cell_type": "code",
   "execution_count": 44,
   "outputs": [],
   "source": [
    "# Crear columna ipm utilizando melt\n",
    "ipm_departamentos_2018 = ipm_departamentos_2018.melt(id_vars=['departamento'], value_vars=['total', 'cabeceras', 'centros_poblados_rural_disperso'], var_name='tipo', value_name='ipm')\n",
    "ipm_departamentos_2019 = ipm_departamentos_2019.melt(id_vars=['departamento'], value_vars=['total', 'cabeceras', 'centros_poblados_rural_disperso'], var_name='tipo', value_name='ipm')\n",
    "ipm_departamentos_2020 = ipm_departamentos_2020.melt(id_vars=['departamento'], value_vars=['total', 'cabeceras', 'centros_poblados_rural_disperso'], var_name='tipo', value_name='ipm')\n",
    "ipm_departamentos_2021 = ipm_departamentos_2021.melt(id_vars=['departamento'], value_vars=['total', 'cabeceras', 'centros_poblados_rural_disperso'], var_name='tipo', value_name='ipm')\n",
    "\n",
    "# Crear columna tipo\n",
    "ipm_departamentos_2018['tipo'] = ipm_departamentos_2018['tipo'].map({'total': 'total', 'cabeceras': 'cabeceras', 'centros_poblados_rural_disperso': 'centros_poblados_rural_disperso'})\n",
    "ipm_departamentos_2019['tipo'] = ipm_departamentos_2019['tipo'].map({'total': 'total', 'cabeceras': 'cabeceras', 'centros_poblados_rural_disperso': 'centros_poblados_rural_disperso'})\n",
    "ipm_departamentos_2020['tipo'] = ipm_departamentos_2020['tipo'].map({'total': 'total', 'cabeceras': 'cabeceras', 'centros_poblados_rural_disperso': 'centros_poblados_rural_disperso'})\n",
    "ipm_departamentos_2021['tipo'] = ipm_departamentos_2021['tipo'].map({'total': 'total', 'cabeceras': 'cabeceras', 'centros_poblados_rural_disperso': 'centros_poblados_rural_disperso'})\n",
    "\n",
    "# Seleccionar columnas deseadas\n",
    "ipm_departamentos_2018 = ipm_departamentos_2018.loc[:, ['departamento', 'ipm', 'tipo']]\n",
    "ipm_departamentos_2019 = ipm_departamentos_2019.loc[:, ['departamento', 'ipm', 'tipo']]\n",
    "ipm_departamentos_2020 = ipm_departamentos_2020.loc[:, ['departamento', 'ipm', 'tipo']]\n",
    "ipm_departamentos_2021 = ipm_departamentos_2021.loc[:, ['departamento', 'ipm', 'tipo']]\n"
   ],
   "metadata": {
    "collapsed": false,
    "ExecuteTime": {
     "start_time": "2023-05-10T11:37:35.077750Z",
     "end_time": "2023-05-10T11:37:35.107287Z"
    }
   }
  },
  {
   "cell_type": "code",
   "execution_count": 46,
   "outputs": [],
   "source": [
    "# Crear columna año\n",
    "ipm_departamentos_2018['año'] = 2018\n",
    "ipm_departamentos_2019['año'] = 2019\n",
    "ipm_departamentos_2020['año'] = 2020\n",
    "ipm_departamentos_2021['año'] = 2021\n",
    "\n"
   ],
   "metadata": {
    "collapsed": false,
    "ExecuteTime": {
     "start_time": "2023-05-10T11:38:18.727868Z",
     "end_time": "2023-05-10T11:38:18.740877Z"
    }
   }
  },
  {
   "cell_type": "code",
   "execution_count": 47,
   "outputs": [],
   "source": [
    "# Concatenar\n",
    "ipm_departamentos = pd.concat([ipm_departamentos_2018, ipm_departamentos_2019, ipm_departamentos_2020, ipm_departamentos_2021], axis=0)\n"
   ],
   "metadata": {
    "collapsed": false,
    "ExecuteTime": {
     "start_time": "2023-05-10T11:38:34.863872Z",
     "end_time": "2023-05-10T11:38:34.882879Z"
    }
   }
  },
  {
   "cell_type": "code",
   "execution_count": 50,
   "outputs": [],
   "source": [
    " #Resetear el índice del DataFrame\n",
    "ipm_departamentos_final = ipm_departamentos.reset_index(drop=True)"
   ],
   "metadata": {
    "collapsed": false,
    "ExecuteTime": {
     "start_time": "2023-05-10T11:40:07.419461Z",
     "end_time": "2023-05-10T11:40:07.426459Z"
    }
   }
  },
  {
   "cell_type": "code",
   "execution_count": 52,
   "outputs": [],
   "source": [
    "#Extraer departamentos\n",
    "departamentos_unicos = ipm_departamentos_final[\"departamento\"].unique()"
   ],
   "metadata": {
    "collapsed": false,
    "ExecuteTime": {
     "start_time": "2023-05-10T11:40:46.123316Z",
     "end_time": "2023-05-10T11:40:46.150831Z"
    }
   }
  },
  {
   "cell_type": "code",
   "execution_count": 58,
   "outputs": [],
   "source": [
    "departamentos = pd.DataFrame(departamentos_unicos, columns=[\"region\"])\n",
    "\n",
    "departamentos.to_csv(r'G:\\Unidades compartidas\\Mau\\TrabajoFinalDeGraduacionMIAD\\Extraccion y limpieza DANE\\salidas\\departamentos.csv', index=False)"
   ],
   "metadata": {
    "collapsed": false,
    "ExecuteTime": {
     "start_time": "2023-05-10T11:43:55.856129Z",
     "end_time": "2023-05-10T11:43:55.865128Z"
    }
   }
  },
  {
   "cell_type": "code",
   "execution_count": 57,
   "outputs": [],
   "source": [
    "# Guardar el DataFrame ipm_departamentos_final como un archivo CSV\n",
    "ipm_departamentos.to_csv(r'G:\\Unidades compartidas\\Mau\\TrabajoFinalDeGraduacionMIAD\\Extraccion y limpieza DANE\\salidas\\ipm_departamentos.csv', index=False)"
   ],
   "metadata": {
    "collapsed": false,
    "ExecuteTime": {
     "start_time": "2023-05-10T11:43:19.092879Z",
     "end_time": "2023-05-10T11:43:19.112402Z"
    }
   }
  },
  {
   "cell_type": "markdown",
   "source": [
    "# IPM Regiones"
   ],
   "metadata": {
    "collapsed": false
   }
  },
  {
   "cell_type": "code",
   "execution_count": 59,
   "outputs": [],
   "source": [
    "nombre_hoja = \"IPM_Regiones\""
   ],
   "metadata": {
    "collapsed": false,
    "ExecuteTime": {
     "start_time": "2023-05-10T13:58:14.509494Z",
     "end_time": "2023-05-10T13:58:14.511496Z"
    }
   }
  },
  {
   "cell_type": "code",
   "execution_count": 60,
   "outputs": [],
   "source": [
    "# Saltar las primeras 15 filas y leer las filas 16 a 24\n",
    "ipm_regiones = pd.read_excel(ruta_archivo, sheet_name=nombre_hoja, skiprows=range(14), nrows=9)\n",
    "\n"
   ],
   "metadata": {
    "collapsed": false,
    "ExecuteTime": {
     "start_time": "2023-05-10T13:58:24.709670Z",
     "end_time": "2023-05-10T13:58:24.852671Z"
    }
   }
  },
  {
   "cell_type": "code",
   "execution_count": 62,
   "outputs": [
    {
     "data": {
      "text/plain": "                               Unnamed: 0  Total  Cabeceras  \\\n0                                  Caribe   32.9       24.9   \n1                                Oriental   15.7       11.3   \n2                                 Central   17.4       11.4   \n3  Pacífica (sin incluir Valle del Cauca)   32.8       20.0   \n4                                  Bogotá    4.1        4.1   \n5                               Antioquia   15.3        9.6   \n6                         Valle del Cauca   14.1       12.5   \n7                              San Andrés    8.5        8.5   \n8                      Orinoquía-Amazonía   29.8       20.0   \n\n   Centros poblados \\ny rural disperso  Total.1  Cabeceras.1  \\\n0                            53.292182     28.1         20.1   \n1                            27.338821     15.2         11.6   \n2                            32.374842     15.2         10.0   \n3                            41.892454     26.3         16.9   \n4                                  NaN      7.1          7.1   \n5                            35.387229     15.7         10.2   \n6                            23.235913     10.8          9.3   \n7                                  NaN      8.2          8.2   \n8                            42.472332     30.0         20.2   \n\n   Centros poblados \\ny rural disperso.1  Total.2  Cabeceras.2  \\\n0                                   48.7     28.7         20.6   \n1                                   25.2     14.5         10.7   \n2                                   28.4     17.9         11.4   \n3                                   32.9     30.9         17.0   \n4                                    NaN      7.5          7.5   \n5                                   35.9     14.9         10.2   \n6                                   19.4     11.1          8.9   \n7                                    NaN     11.9         11.9   \n8                                   42.8     32.2         21.5   \n\n   Centros poblados \\ny rural disperso.2  Total.3  Cabeceras.3  \\\n0                                   49.8     26.8         19.6   \n1                                   25.2     13.7         10.5   \n2                                   34.7     14.7         10.3   \n3                                   40.5     22.7         14.3   \n4                                    NaN      5.7          5.7   \n5                                   32.7     14.3         10.8   \n6                                   24.1      8.6          6.9   \n7                                    NaN      7.0          7.0   \n8                                   46.5     28.6         21.0   \n\n   Centros poblados \\ny rural disperso.3  \n0                                   45.3  \n1                                   23.0  \n2                                   26.0  \n3                                   28.6  \n4                                    NaN  \n5                                   28.0  \n6                                   18.6  \n7                                    NaN  \n8                                   39.0  ",
      "text/html": "<div>\n<style scoped>\n    .dataframe tbody tr th:only-of-type {\n        vertical-align: middle;\n    }\n\n    .dataframe tbody tr th {\n        vertical-align: top;\n    }\n\n    .dataframe thead th {\n        text-align: right;\n    }\n</style>\n<table border=\"1\" class=\"dataframe\">\n  <thead>\n    <tr style=\"text-align: right;\">\n      <th></th>\n      <th>Unnamed: 0</th>\n      <th>Total</th>\n      <th>Cabeceras</th>\n      <th>Centros poblados \\ny rural disperso</th>\n      <th>Total.1</th>\n      <th>Cabeceras.1</th>\n      <th>Centros poblados \\ny rural disperso.1</th>\n      <th>Total.2</th>\n      <th>Cabeceras.2</th>\n      <th>Centros poblados \\ny rural disperso.2</th>\n      <th>Total.3</th>\n      <th>Cabeceras.3</th>\n      <th>Centros poblados \\ny rural disperso.3</th>\n    </tr>\n  </thead>\n  <tbody>\n    <tr>\n      <th>0</th>\n      <td>Caribe</td>\n      <td>32.9</td>\n      <td>24.9</td>\n      <td>53.292182</td>\n      <td>28.1</td>\n      <td>20.1</td>\n      <td>48.7</td>\n      <td>28.7</td>\n      <td>20.6</td>\n      <td>49.8</td>\n      <td>26.8</td>\n      <td>19.6</td>\n      <td>45.3</td>\n    </tr>\n    <tr>\n      <th>1</th>\n      <td>Oriental</td>\n      <td>15.7</td>\n      <td>11.3</td>\n      <td>27.338821</td>\n      <td>15.2</td>\n      <td>11.6</td>\n      <td>25.2</td>\n      <td>14.5</td>\n      <td>10.7</td>\n      <td>25.2</td>\n      <td>13.7</td>\n      <td>10.5</td>\n      <td>23.0</td>\n    </tr>\n    <tr>\n      <th>2</th>\n      <td>Central</td>\n      <td>17.4</td>\n      <td>11.4</td>\n      <td>32.374842</td>\n      <td>15.2</td>\n      <td>10.0</td>\n      <td>28.4</td>\n      <td>17.9</td>\n      <td>11.4</td>\n      <td>34.7</td>\n      <td>14.7</td>\n      <td>10.3</td>\n      <td>26.0</td>\n    </tr>\n    <tr>\n      <th>3</th>\n      <td>Pacífica (sin incluir Valle del Cauca)</td>\n      <td>32.8</td>\n      <td>20.0</td>\n      <td>41.892454</td>\n      <td>26.3</td>\n      <td>16.9</td>\n      <td>32.9</td>\n      <td>30.9</td>\n      <td>17.0</td>\n      <td>40.5</td>\n      <td>22.7</td>\n      <td>14.3</td>\n      <td>28.6</td>\n    </tr>\n    <tr>\n      <th>4</th>\n      <td>Bogotá</td>\n      <td>4.1</td>\n      <td>4.1</td>\n      <td>NaN</td>\n      <td>7.1</td>\n      <td>7.1</td>\n      <td>NaN</td>\n      <td>7.5</td>\n      <td>7.5</td>\n      <td>NaN</td>\n      <td>5.7</td>\n      <td>5.7</td>\n      <td>NaN</td>\n    </tr>\n    <tr>\n      <th>5</th>\n      <td>Antioquia</td>\n      <td>15.3</td>\n      <td>9.6</td>\n      <td>35.387229</td>\n      <td>15.7</td>\n      <td>10.2</td>\n      <td>35.9</td>\n      <td>14.9</td>\n      <td>10.2</td>\n      <td>32.7</td>\n      <td>14.3</td>\n      <td>10.8</td>\n      <td>28.0</td>\n    </tr>\n    <tr>\n      <th>6</th>\n      <td>Valle del Cauca</td>\n      <td>14.1</td>\n      <td>12.5</td>\n      <td>23.235913</td>\n      <td>10.8</td>\n      <td>9.3</td>\n      <td>19.4</td>\n      <td>11.1</td>\n      <td>8.9</td>\n      <td>24.1</td>\n      <td>8.6</td>\n      <td>6.9</td>\n      <td>18.6</td>\n    </tr>\n    <tr>\n      <th>7</th>\n      <td>San Andrés</td>\n      <td>8.5</td>\n      <td>8.5</td>\n      <td>NaN</td>\n      <td>8.2</td>\n      <td>8.2</td>\n      <td>NaN</td>\n      <td>11.9</td>\n      <td>11.9</td>\n      <td>NaN</td>\n      <td>7.0</td>\n      <td>7.0</td>\n      <td>NaN</td>\n    </tr>\n    <tr>\n      <th>8</th>\n      <td>Orinoquía-Amazonía</td>\n      <td>29.8</td>\n      <td>20.0</td>\n      <td>42.472332</td>\n      <td>30.0</td>\n      <td>20.2</td>\n      <td>42.8</td>\n      <td>32.2</td>\n      <td>21.5</td>\n      <td>46.5</td>\n      <td>28.6</td>\n      <td>21.0</td>\n      <td>39.0</td>\n    </tr>\n  </tbody>\n</table>\n</div>"
     },
     "execution_count": 62,
     "metadata": {},
     "output_type": "execute_result"
    }
   ],
   "source": [
    "ipm_regiones"
   ],
   "metadata": {
    "collapsed": false,
    "ExecuteTime": {
     "start_time": "2023-05-10T13:58:35.023290Z",
     "end_time": "2023-05-10T13:58:35.039290Z"
    }
   }
  },
  {
   "cell_type": "code",
   "execution_count": 63,
   "outputs": [],
   "source": [
    "ipm_regiones_2018 = ipm_regiones.iloc[:, :4]\n",
    "ipm_regiones_2019 = ipm_regiones.iloc[:, [0, 4, 5, 6]]\n",
    "ipm_regiones_2020 = ipm_regiones.iloc[:, [0, 7, 8, 9]]\n",
    "ipm_regiones_2021 = ipm_regiones.iloc[:, [0, 10, 11, 12]]"
   ],
   "metadata": {
    "collapsed": false,
    "ExecuteTime": {
     "start_time": "2023-05-10T13:59:08.596820Z",
     "end_time": "2023-05-10T13:59:08.603821Z"
    }
   }
  },
  {
   "cell_type": "code",
   "execution_count": 64,
   "outputs": [],
   "source": [
    "ipm_regiones_2018.columns = ['region', 'total', 'cabeceras', 'centros_poblados_rural_disperso']\n",
    "ipm_regiones_2019.columns = ['region', 'total', 'cabeceras', 'centros_poblados_rural_disperso']\n",
    "ipm_regiones_2020.columns = ['region', 'total', 'cabeceras', 'centros_poblados_rural_disperso']\n",
    "ipm_regiones_2021.columns = ['region', 'total', 'cabeceras', 'centros_poblados_rural_disperso']"
   ],
   "metadata": {
    "collapsed": false,
    "ExecuteTime": {
     "start_time": "2023-05-10T13:59:32.960475Z",
     "end_time": "2023-05-10T13:59:32.963475Z"
    }
   }
  },
  {
   "cell_type": "code",
   "execution_count": 66,
   "outputs": [],
   "source": [
    "# Crear columna ipm utilizando melt\n",
    "ipm_regiones_2018 = ipm_regiones_2018.melt(id_vars=['region'], value_vars=['total', 'cabeceras', 'centros_poblados_rural_disperso'], var_name='tipo', value_name='ipm')\n",
    "ipm_regiones_2019 = ipm_regiones_2019.melt(id_vars=['region'], value_vars=['total', 'cabeceras', 'centros_poblados_rural_disperso'], var_name='tipo', value_name='ipm')\n",
    "ipm_regiones_2020 = ipm_regiones_2020.melt(id_vars=['region'], value_vars=['total', 'cabeceras', 'centros_poblados_rural_disperso'], var_name='tipo', value_name='ipm')\n",
    "ipm_regiones_2021 = ipm_regiones_2021.melt(id_vars=['region'], value_vars=['total', 'cabeceras', 'centros_poblados_rural_disperso'], var_name='tipo', value_name='ipm')\n",
    "\n"
   ],
   "metadata": {
    "collapsed": false,
    "ExecuteTime": {
     "start_time": "2023-05-10T14:00:13.561980Z",
     "end_time": "2023-05-10T14:00:13.583979Z"
    }
   }
  },
  {
   "cell_type": "code",
   "execution_count": 67,
   "outputs": [],
   "source": [
    "# Crear columna tipo\n",
    "ipm_regiones_2018['tipo'] = ipm_regiones_2018['tipo'].map({'total': 'total', 'cabeceras': 'cabeceras', 'centros_poblados_rural_disperso': 'centros_poblados_rural_disperso'})\n",
    "ipm_regiones_2019['tipo'] = ipm_regiones_2019['tipo'].map({'total': 'total', 'cabeceras': 'cabeceras', 'centros_poblados_rural_disperso': 'centros_poblados_rural_disperso'})\n",
    "ipm_regiones_2020['tipo'] = ipm_regiones_2020['tipo'].map({'total': 'total', 'cabeceras': 'cabeceras', 'centros_poblados_rural_disperso': 'centros_poblados_rural_disperso'})\n",
    "ipm_regiones_2021['tipo'] = ipm_regiones_2021['tipo'].map({'total': 'total', 'cabeceras': 'cabeceras', 'centros_poblados_rural_disperso': 'centros_poblados_rural_disperso'})\n"
   ],
   "metadata": {
    "collapsed": false,
    "ExecuteTime": {
     "start_time": "2023-05-10T14:00:48.006212Z",
     "end_time": "2023-05-10T14:00:48.016211Z"
    }
   }
  },
  {
   "cell_type": "code",
   "execution_count": 69,
   "outputs": [],
   "source": [
    "# Crear columna año\n",
    "ipm_regiones_2018['año'] = 2018\n",
    "ipm_regiones_2019['año'] = 2019\n",
    "ipm_regiones_2020['año'] = 2020\n",
    "ipm_regiones_2021['año'] = 2021\n"
   ],
   "metadata": {
    "collapsed": false,
    "ExecuteTime": {
     "start_time": "2023-05-10T14:01:24.499793Z",
     "end_time": "2023-05-10T14:01:24.521839Z"
    }
   }
  },
  {
   "cell_type": "code",
   "execution_count": 70,
   "outputs": [],
   "source": [
    "# Concatenar\n",
    "ipm_regiones = pd.concat([ipm_regiones_2018, ipm_regiones_2019, ipm_regiones_2020, ipm_regiones_2021], axis=0)\n"
   ],
   "metadata": {
    "collapsed": false,
    "ExecuteTime": {
     "start_time": "2023-05-10T14:01:43.745200Z",
     "end_time": "2023-05-10T14:01:43.763200Z"
    }
   }
  },
  {
   "cell_type": "code",
   "execution_count": 71,
   "outputs": [],
   "source": [
    "#Resetear el índice del DataFrame\n",
    "ipm_regiones_final = ipm_regiones.reset_index(drop=True)\n"
   ],
   "metadata": {
    "collapsed": false,
    "ExecuteTime": {
     "start_time": "2023-05-10T14:01:58.966916Z",
     "end_time": "2023-05-10T14:01:58.974915Z"
    }
   }
  },
  {
   "cell_type": "code",
   "execution_count": 72,
   "outputs": [],
   "source": [
    "#Extraer regiones\n",
    "regiones_unicas = ipm_regiones_final[\"region\"].unique()\n"
   ],
   "metadata": {
    "collapsed": false,
    "ExecuteTime": {
     "start_time": "2023-05-10T14:02:22.991248Z",
     "end_time": "2023-05-10T14:02:23.002249Z"
    }
   }
  },
  {
   "cell_type": "code",
   "execution_count": 73,
   "outputs": [],
   "source": [
    "regiones = pd.DataFrame(regiones_unicas, columns=[\"region\"])\n"
   ],
   "metadata": {
    "collapsed": false,
    "ExecuteTime": {
     "start_time": "2023-05-10T14:02:31.012530Z",
     "end_time": "2023-05-10T14:02:31.021530Z"
    }
   }
  },
  {
   "cell_type": "code",
   "execution_count": 74,
   "outputs": [],
   "source": [
    "regiones.to_csv(r'G:\\Unidades compartidas\\Mau\\TrabajoFinalDeGraduacionMIAD\\Extraccion y limpieza DANE\\salidas\\regiones.csv', index=False)"
   ],
   "metadata": {
    "collapsed": false,
    "ExecuteTime": {
     "start_time": "2023-05-10T14:02:38.573437Z",
     "end_time": "2023-05-10T14:02:38.603453Z"
    }
   }
  },
  {
   "cell_type": "code",
   "execution_count": 75,
   "outputs": [],
   "source": [
    "# Guardar el DataFrame ipm_regiones_final como un archivo CSV\n",
    "ipm_regiones_final.to_csv(r'G:\\Unidades compartidas\\Mau\\TrabajoFinalDeGraduacionMIAD\\Extraccion y limpieza DANE\\salidas\\ipm_regiones.csv', index=False)\n"
   ],
   "metadata": {
    "collapsed": false,
    "ExecuteTime": {
     "start_time": "2023-05-10T14:02:52.998018Z",
     "end_time": "2023-05-10T14:02:53.013015Z"
    }
   }
  },
  {
   "cell_type": "markdown",
   "source": [
    "# IPM Variable Departamentos"
   ],
   "metadata": {
    "collapsed": false
   }
  },
  {
   "cell_type": "code",
   "execution_count": 78,
   "outputs": [],
   "source": [
    "def procesar_dataframe(dataframe, nuevos_nombres, nombre_columna):\n",
    "    # Asignar los nuevos nombres de las columnas al DataFrame\n",
    "    dataframe.columns = nuevos_nombres\n",
    "    #Reemplazar las columnas con el primer valor de la fila\n",
    "    primer_valor = dataframe.iloc[0][nombre_columna]\n",
    "    dataframe.loc[:, nombre_columna] = primer_valor\n",
    "    return dataframe\n",
    "\n",
    "def reordenar_dataframes(df):\n",
    "    # Crea los dataframes de cada año\n",
    "    df_2018 = df.iloc[:, :5]\n",
    "    df_2019 = df.iloc[:, [0, 1, 5, 6, 7]]\n",
    "    df_2020 = df.iloc[:, [0, 1, 8, 9, 10]]\n",
    "    df_2021 = df.iloc[:, [0, 1, 11, 12, 13]]\n",
    "\n",
    "    nuevos_nombres_2 = ['departamento', 'variable', 'total', 'cabeceras', 'centros_poblados_rural_disperso']\n",
    "\n",
    "    df_2019.columns = nuevos_nombres_2\n",
    "    df_2020.columns = nuevos_nombres_2\n",
    "    df_2021.columns = nuevos_nombres_2\n",
    "\n",
    "\n",
    "    #Separar por tipos\n",
    "\n",
    "    df_2018t = df_2018.iloc[:, :3]\n",
    "    df_2018c = df_2018.iloc[:,[0,1,3]]\n",
    "    df_2018cp = df_2018.iloc[:,[0,1,4]]\n",
    "\n",
    "    df_2019t = df_2019.iloc[:, :3]\n",
    "    df_2019c = df_2019.iloc[:,[0,1,3]]\n",
    "    df_2019cp = df_2019.iloc[:,[0,1,4]]\n",
    "\n",
    "    df_2020t = df_2020.iloc[:, :3]\n",
    "    df_2020c = df_2020.iloc[:,[0,1,3]]\n",
    "    df_2020cp = df_2020.iloc[:,[0,1,4]]\n",
    "\n",
    "    df_2021t = df_2021.iloc[:, :3]\n",
    "    df_2021c = df_2021.iloc[:,[0,1,3]]\n",
    "    df_2021cp = df_2021.iloc[:,[0,1,4]]\n",
    "\n",
    "    #Pivote\n",
    "\n",
    "    df_2018t_pivot = df_2018t.pivot(index='departamento', columns='variable', values='total')\n",
    "    df_2018c_pivot = df_2018c.pivot(index='departamento', columns='variable', values='cabeceras')\n",
    "    df_2018cp_pivot = df_2018cp.pivot(index='departamento', columns='variable', values='centros_poblados_rural_disperso')\n",
    "\n",
    "\n",
    "    df_2019t_pivot = df_2019t.pivot(index='departamento', columns='variable', values='total')\n",
    "    df_2019c_pivot = df_2019c.pivot(index='departamento', columns='variable', values='cabeceras')\n",
    "    df_2019cp_pivot = df_2019cp.pivot(index='departamento', columns='variable', values='centros_poblados_rural_disperso')\n",
    "\n",
    "    df_2020t_pivot = df_2020t.pivot(index='departamento', columns='variable', values='total')\n",
    "    df_2020c_pivot = df_2020c.pivot(index='departamento', columns='variable', values='cabeceras')\n",
    "    df_2020cp_pivot = df_2020cp.pivot(index='departamento', columns='variable', values='centros_poblados_rural_disperso')\n",
    "\n",
    "\n",
    "    df_2021t_pivot = df_2021t.pivot(index='departamento', columns='variable', values='total')\n",
    "    df_2021c_pivot = df_2021c.pivot(index='departamento', columns='variable', values='cabeceras')\n",
    "    df_2021cp_pivot = df_2021cp.pivot(index='departamento', columns='variable', values='centros_poblados_rural_disperso')\n",
    "\n",
    "\n",
    "    df_2018t_pivot = df_2018t_pivot.assign(tipo=\"total\")\n",
    "    df_2018c_pivot = df_2018c_pivot.assign(tipo=\"cabeceras\")\n",
    "    df_2018cp_pivot = df_2018cp_pivot.assign(tipo=\"centros_poblados_rural_disperso\")\n",
    "\n",
    "    df_2019t_pivot = df_2019t_pivot.assign(tipo=\"total\")\n",
    "    df_2019c_pivot = df_2019c_pivot.assign(tipo=\"cabeceras\")\n",
    "    df_2019cp_pivot = df_2019cp_pivot.assign(tipo=\"centros_poblados_rural_disperso\")\n",
    "\n",
    "    df_2020t_pivot = df_2020t_pivot.assign(tipo=\"total\")\n",
    "    df_2020c_pivot = df_2020c_pivot.assign(tipo=\"cabeceras\")\n",
    "    df_2020cp_pivot = df_2020cp_pivot.assign(tipo=\"centros_poblados_rural_disperso\")\n",
    "\n",
    "\n",
    "    df_2021t_pivot = df_2021t_pivot.assign(tipo=\"total\")\n",
    "    df_2021c_pivot = df_2021c_pivot.assign(tipo=\"cabeceras\")\n",
    "    df_2021cp_pivot = df_2021cp_pivot.assign(tipo=\"centros_poblados_rural_disperso\")\n",
    "\n",
    "    #Unión\n",
    "\n",
    "    df_2018 = pd.concat([df_2018t_pivot, df_2018c_pivot,  df_2018cp_pivot], axis=0)\n",
    "    df_2019 = pd.concat([df_2019t_pivot, df_2019c_pivot,  df_2019cp_pivot], axis=0)\n",
    "    df_2020 = pd.concat([df_2020t_pivot, df_2020c_pivot,  df_2020cp_pivot], axis=0)\n",
    "    df_2021 = pd.concat([df_2021t_pivot, df_2021c_pivot,  df_2021cp_pivot], axis=0)\n",
    "\n",
    "\n",
    "    # Agrega el ano\n",
    "    df_2018 = df_2018.assign(anio=2018)\n",
    "    df_2019 = df_2019.assign(anio=2019)\n",
    "    df_2020= df_2020.assign(anio=2020)\n",
    "    df_2021= df_2021.assign(anio=2021)\n",
    "\n",
    "    # Une los dataframes pivote\n",
    "    df_final = pd.concat([df_2018, df_2019,  df_2020,  df_2021], axis=0)\n",
    "\n",
    "    # Restablece el índice\n",
    "    df_final  =df_final .reset_index()\n",
    "\n",
    "    return df_final\n"
   ],
   "metadata": {
    "collapsed": false,
    "ExecuteTime": {
     "start_time": "2023-05-10T14:07:33.262605Z",
     "end_time": "2023-05-10T14:07:33.275603Z"
    }
   }
  },
  {
   "cell_type": "code",
   "execution_count": 79,
   "outputs": [],
   "source": [
    "#IPM Variables por departamento\n",
    "\n",
    "# Nombre de la hoja donde están los datos\n",
    "nombre_hoja = \"IPM_Variables_Departamento \""
   ],
   "metadata": {
    "collapsed": false,
    "ExecuteTime": {
     "start_time": "2023-05-10T14:11:15.157837Z",
     "end_time": "2023-05-10T14:11:15.177835Z"
    }
   }
  },
  {
   "cell_type": "code",
   "execution_count": 81,
   "outputs": [],
   "source": [
    "nuevos_nombres = ['departamento','variable', 'total', 'cabeceras', 'centros_poblados_rural_disperso',\n",
    "                  'total_1', 'cabeceras_1', 'centros_poblados_rural_disperso_1',\n",
    "                  'total_2', 'cabeceras_2', 'centros_poblados_rural_disperso_2',\n",
    "                  'total_3', 'cabeceras_3', 'centros_poblados_rural_disperso_3']\n",
    "nombre_columna = \"departamento\"\n"
   ],
   "metadata": {
    "collapsed": false,
    "ExecuteTime": {
     "start_time": "2023-05-10T14:12:36.949967Z",
     "end_time": "2023-05-10T14:12:36.960969Z"
    }
   }
  },
  {
   "cell_type": "code",
   "execution_count": 82,
   "outputs": [],
   "source": [
    "variables_departamento_antioquia = pd.read_excel(ruta_archivo, sheet_name=nombre_hoja, skiprows=range(14), nrows=15)\n",
    "variables_departamento_antioquia = procesar_dataframe(variables_departamento_antioquia, nuevos_nombres, nombre_columna)\n",
    "variables_departamento_antioquia = reordenar_dataframes(variables_departamento_antioquia)\n"
   ],
   "metadata": {
    "collapsed": false,
    "ExecuteTime": {
     "start_time": "2023-05-10T14:12:39.676888Z",
     "end_time": "2023-05-10T14:12:39.824397Z"
    }
   }
  },
  {
   "cell_type": "code",
   "execution_count": 84,
   "outputs": [],
   "source": [
    "\n",
    "variables_departamento_antioquia = pd.read_excel(ruta_archivo, sheet_name=nombre_hoja, skiprows=range(14), nrows=15)\n",
    "variables_departamento_antioquia = procesar_dataframe(variables_departamento_antioquia, nuevos_nombres, nombre_columna)\n",
    "variables_departamento_antioquia = reordenar_dataframes(variables_departamento_antioquia)\n",
    "\n",
    "\n",
    "variables_departamento_atlantico = pd.read_excel(ruta_archivo, sheet_name=nombre_hoja, skiprows=range(40), nrows=15)\n",
    "variables_departamento_atlantico = procesar_dataframe(variables_departamento_atlantico, nuevos_nombres, nombre_columna)\n",
    "variables_departamento_atlantico = reordenar_dataframes(variables_departamento_atlantico)\n",
    "\n",
    "\n",
    "variables_departamento_bogota = pd.read_excel(ruta_archivo, sheet_name=nombre_hoja, skiprows=range(66), nrows=15)\n",
    "variables_departamento_bogota = procesar_dataframe(variables_departamento_bogota, nuevos_nombres, nombre_columna)\n",
    "variables_departamento_bogota = reordenar_dataframes(variables_departamento_bogota)\n",
    "\n",
    "\n",
    "variables_departamento_bolivar = pd.read_excel(ruta_archivo, sheet_name=nombre_hoja, skiprows=range(92), nrows=15)\n",
    "variables_departamento_bolivar = procesar_dataframe(variables_departamento_bolivar, nuevos_nombres, nombre_columna)\n",
    "variables_departamento_bolivar = reordenar_dataframes(variables_departamento_bolivar)\n",
    "\n",
    "\n",
    "variables_departamento_boyaca = pd.read_excel(ruta_archivo, sheet_name=nombre_hoja, skiprows=range(118), nrows=15)\n",
    "variables_departamento_boyaca = procesar_dataframe(variables_departamento_boyaca, nuevos_nombres, nombre_columna)\n",
    "variables_departamento_boyaca = reordenar_dataframes(variables_departamento_boyaca)\n",
    "\n",
    "variables_departamento_caldas = pd.read_excel(ruta_archivo, sheet_name=nombre_hoja, skiprows=range(144), nrows=15)\n",
    "variables_departamento_caldas = procesar_dataframe(variables_departamento_caldas, nuevos_nombres, nombre_columna)\n",
    "variables_departamento_caldas = reordenar_dataframes(variables_departamento_caldas)\n",
    "\n",
    "\n",
    "variables_departamento_caqueta = pd.read_excel(ruta_archivo, sheet_name=nombre_hoja, skiprows=range(170), nrows=15)\n",
    "variables_departamento_caqueta = procesar_dataframe(variables_departamento_caqueta, nuevos_nombres, nombre_columna)\n",
    "variables_departamento_caqueta = reordenar_dataframes(variables_departamento_caqueta)\n",
    "\n",
    "\n",
    "variables_departamento_cauca = pd.read_excel(ruta_archivo, sheet_name=nombre_hoja, skiprows=range(196), nrows=15)\n",
    "variables_departamento_cauca = procesar_dataframe(variables_departamento_cauca, nuevos_nombres, nombre_columna)\n",
    "variables_departamento_cauca = reordenar_dataframes(variables_departamento_cauca)\n",
    "\n",
    "variables_departamento_cesar = pd.read_excel(ruta_archivo, sheet_name=nombre_hoja, skiprows=range(222), nrows=15)\n",
    "variables_departamento_cesar = procesar_dataframe(variables_departamento_cesar, nuevos_nombres, nombre_columna)\n",
    "variables_departamento_cesar = reordenar_dataframes(variables_departamento_cesar)\n",
    "\n",
    "\n",
    "variables_departamento_cordoba = pd.read_excel(ruta_archivo, sheet_name=nombre_hoja, skiprows=range(248), nrows=15)\n",
    "variables_departamento_cordoba = procesar_dataframe(variables_departamento_cordoba, nuevos_nombres, nombre_columna)\n",
    "variables_departamento_cordoba = reordenar_dataframes(variables_departamento_cordoba)\n",
    "\n",
    "variables_departamento_cundinamarca = pd.read_excel(ruta_archivo, sheet_name=nombre_hoja, skiprows=range(274), nrows=15)\n",
    "variables_departamento_cundinamarca = procesar_dataframe(variables_departamento_cundinamarca, nuevos_nombres, nombre_columna)\n",
    "variables_departamento_cundinamarca = reordenar_dataframes(variables_departamento_cundinamarca)\n",
    "\n",
    "\n",
    "variables_departamento_choco = pd.read_excel(ruta_archivo, sheet_name=nombre_hoja, skiprows=range(300), nrows=15)\n",
    "variables_departamento_choco = procesar_dataframe(variables_departamento_choco, nuevos_nombres, nombre_columna)\n",
    "variables_departamento_choco = reordenar_dataframes(variables_departamento_choco)\n",
    "\n",
    "variables_departamento_huila = pd.read_excel(ruta_archivo, sheet_name=nombre_hoja, skiprows=range(326), nrows=15)\n",
    "variables_departamento_huila = procesar_dataframe(variables_departamento_huila, nuevos_nombres, nombre_columna)\n",
    "variables_departamento_huila = reordenar_dataframes(variables_departamento_huila)\n",
    "\n",
    "\n",
    "variables_departamento_la_guajira = pd.read_excel(ruta_archivo, sheet_name=nombre_hoja, skiprows=range(352), nrows=15)\n",
    "variables_departamento_la_guajira = procesar_dataframe(variables_departamento_la_guajira, nuevos_nombres, nombre_columna)\n",
    "variables_departamento_la_guajira = reordenar_dataframes(variables_departamento_la_guajira)\n",
    "\n",
    "\n",
    "variables_departamento_magdalena = pd.read_excel(ruta_archivo, sheet_name=nombre_hoja, skiprows=range(378), nrows=15)\n",
    "variables_departamento_magdalena = procesar_dataframe(variables_departamento_magdalena, nuevos_nombres, nombre_columna)\n",
    "variables_departamento_magdalena = reordenar_dataframes(variables_departamento_magdalena)\n",
    "\n",
    "\n",
    "variables_departamento_meta = pd.read_excel(ruta_archivo, sheet_name=nombre_hoja, skiprows=range(404), nrows=15)\n",
    "variables_departamento_meta = procesar_dataframe(variables_departamento_meta, nuevos_nombres, nombre_columna)\n",
    "variables_departamento_meta = reordenar_dataframes(variables_departamento_meta)\n",
    "\n",
    "\n",
    "variables_departamento_narino = pd.read_excel(ruta_archivo, sheet_name=nombre_hoja, skiprows=range(430), nrows=15)\n",
    "variables_departamento_narino = procesar_dataframe(variables_departamento_narino, nuevos_nombres, nombre_columna)\n",
    "variables_departamento_narino = reordenar_dataframes(variables_departamento_narino)\n",
    "\n",
    "\n",
    "variables_departamento_norte_de_santander = pd.read_excel(ruta_archivo, sheet_name=nombre_hoja, skiprows=range(456), nrows=15)\n",
    "variables_departamento_norte_de_santander = procesar_dataframe(variables_departamento_norte_de_santander, nuevos_nombres, nombre_columna)\n",
    "variables_departamento_norte_de_santander = reordenar_dataframes(variables_departamento_norte_de_santander)\n",
    "\n",
    "\n",
    "variables_departamento_quindio = pd.read_excel(ruta_archivo, sheet_name=nombre_hoja, skiprows=range(482), nrows=15)\n",
    "variables_departamento_quindio = procesar_dataframe(variables_departamento_quindio, nuevos_nombres, nombre_columna)\n",
    "variables_departamento_quindio = reordenar_dataframes(variables_departamento_quindio)\n",
    "\n",
    "\n",
    "variables_departamento_risarlda = pd.read_excel(ruta_archivo, sheet_name=nombre_hoja, skiprows=range(508), nrows=15)\n",
    "variables_departamento_risarlda = procesar_dataframe(variables_departamento_risarlda, nuevos_nombres, nombre_columna)\n",
    "variables_departamento_risarlda = reordenar_dataframes(variables_departamento_risarlda)\n",
    "\n",
    "\n",
    "variables_departamento_santander = pd.read_excel(ruta_archivo, sheet_name=nombre_hoja, skiprows=range(534), nrows=15)\n",
    "variables_departamento_santander = procesar_dataframe(variables_departamento_santander, nuevos_nombres, nombre_columna)\n",
    "variables_departamento_santander = reordenar_dataframes(variables_departamento_santander)\n",
    "\n",
    "\n",
    "variables_departamento_sucre = pd.read_excel(ruta_archivo, sheet_name=nombre_hoja, skiprows=range(560), nrows=15)\n",
    "variables_departamento_sucre = procesar_dataframe(variables_departamento_sucre, nuevos_nombres, nombre_columna)\n",
    "variables_departamento_sucre = reordenar_dataframes(variables_departamento_sucre)\n",
    "\n",
    "\n",
    "variables_departamento_tolima = pd.read_excel(ruta_archivo, sheet_name=nombre_hoja, skiprows=range(586), nrows=15)\n",
    "variables_departamento_tolima = procesar_dataframe(variables_departamento_tolima, nuevos_nombres, nombre_columna)\n",
    "variables_departamento_tolima = reordenar_dataframes(variables_departamento_tolima)\n",
    "\n",
    "\n",
    "variables_departamento_valle_del_cauca = pd.read_excel(ruta_archivo, sheet_name=nombre_hoja, skiprows=range(612), nrows=15)\n",
    "variables_departamento_valle_del_cauca = procesar_dataframe(variables_departamento_valle_del_cauca, nuevos_nombres, nombre_columna)\n",
    "variables_departamento_valle_del_cauca = reordenar_dataframes(variables_departamento_valle_del_cauca)\n",
    "\n",
    "\n",
    "\n",
    "variables_departamento_arauca = pd.read_excel(ruta_archivo, sheet_name=nombre_hoja, skiprows=range(638), nrows=15)\n",
    "variables_departamento_arauca = procesar_dataframe(variables_departamento_arauca, nuevos_nombres, nombre_columna)\n",
    "variables_departamento_arauca = reordenar_dataframes(variables_departamento_arauca)\n",
    "\n",
    "\n",
    "\n",
    "variables_departamento_casanare = pd.read_excel(ruta_archivo, sheet_name=nombre_hoja, skiprows=range(664), nrows=15)\n",
    "variables_departamento_casanare = procesar_dataframe(variables_departamento_casanare, nuevos_nombres, nombre_columna)\n",
    "variables_departamento_casanare = reordenar_dataframes(variables_departamento_casanare)\n",
    "\n",
    "\n",
    "variables_departamento_putumayo = pd.read_excel(ruta_archivo, sheet_name=nombre_hoja, skiprows=range(690), nrows=15)\n",
    "variables_departamento_putumayo = procesar_dataframe(variables_departamento_putumayo, nuevos_nombres, nombre_columna)\n",
    "variables_departamento_putumayo = reordenar_dataframes(variables_departamento_putumayo)\n",
    "\n",
    "\n",
    "\n",
    "variables_departamento_san_andres = pd.read_excel(ruta_archivo, sheet_name=nombre_hoja, skiprows=range(716), nrows=15)\n",
    "variables_departamento_san_andres = procesar_dataframe(variables_departamento_san_andres, nuevos_nombres, nombre_columna)\n",
    "variables_departamento_san_andres = reordenar_dataframes(variables_departamento_san_andres)\n",
    "\n",
    "\n",
    "variables_departamento_amazonas = pd.read_excel(ruta_archivo, sheet_name=nombre_hoja, skiprows=range(742), nrows=15)\n",
    "variables_departamento_amazonas = procesar_dataframe(variables_departamento_amazonas, nuevos_nombres, nombre_columna)\n",
    "variables_departamento_amazonas = reordenar_dataframes(variables_departamento_amazonas)\n",
    "\n",
    "\n",
    "variables_departamento_guainia = pd.read_excel(ruta_archivo, sheet_name=nombre_hoja, skiprows=range(768), nrows=15)\n",
    "variables_departamento_guainia = procesar_dataframe(variables_departamento_guainia, nuevos_nombres, nombre_columna)\n",
    "variables_departamento_guainia = reordenar_dataframes(variables_departamento_guainia)\n",
    "\n",
    "\n",
    "variables_departamento_guaviare = pd.read_excel(ruta_archivo, sheet_name=nombre_hoja, skiprows=range(794), nrows=15)\n",
    "variables_departamento_guaviare = procesar_dataframe(variables_departamento_guaviare, nuevos_nombres, nombre_columna)\n",
    "variables_departamento_guaviare = reordenar_dataframes(variables_departamento_guaviare)\n",
    "\n",
    "\n",
    "variables_departamento_vaupes = pd.read_excel(ruta_archivo, sheet_name=nombre_hoja, skiprows=range(820), nrows=15)\n",
    "variables_departamento_vaupes = procesar_dataframe(variables_departamento_vaupes, nuevos_nombres, nombre_columna)\n",
    "variables_departamento_vaupes = reordenar_dataframes(variables_departamento_vaupes)\n",
    "\n",
    "variables_departamento_vichada = pd.read_excel(ruta_archivo, sheet_name=nombre_hoja, skiprows=range(846), nrows=15)\n",
    "variables_departamento_vichada = procesar_dataframe(variables_departamento_vichada, nuevos_nombres, nombre_columna)\n",
    "variables_departamento_vichada = reordenar_dataframes(variables_departamento_vichada)\n",
    "\n"
   ],
   "metadata": {
    "collapsed": false,
    "ExecuteTime": {
     "start_time": "2023-05-10T14:13:20.076926Z",
     "end_time": "2023-05-10T14:13:25.362440Z"
    }
   }
  },
  {
   "cell_type": "code",
   "execution_count": 87,
   "outputs": [],
   "source": [
    "variables_departamento = pd.concat([variables_departamento_antioquia, variables_departamento_atlantico,variables_departamento_bogota,\n",
    "                                variables_departamento_bolivar,variables_departamento_boyaca,variables_departamento_caldas,\n",
    "                                variables_departamento_caqueta,variables_departamento_cauca,variables_departamento_cesar,\n",
    "                                variables_departamento_cordoba,variables_departamento_cundinamarca,variables_departamento_choco,\n",
    "                                variables_departamento_huila,variables_departamento_la_guajira,variables_departamento_magdalena,\n",
    "                                variables_departamento_meta,variables_departamento_narino,variables_departamento_norte_de_santander,\n",
    "                                variables_departamento_quindio,variables_departamento_risarlda,variables_departamento_santander,\n",
    "                                variables_departamento_sucre,variables_departamento_tolima,variables_departamento_valle_del_cauca,\n",
    "                                variables_departamento_arauca,variables_departamento_casanare,variables_departamento_putumayo,\n",
    "                                variables_departamento_san_andres, variables_departamento_amazonas,variables_departamento_guainia,\n",
    "                                variables_departamento_guaviare,variables_departamento_vaupes,variables_departamento_vichada], axis=0)\n"
   ],
   "metadata": {
    "collapsed": false,
    "ExecuteTime": {
     "start_time": "2023-05-10T14:15:02.964714Z",
     "end_time": "2023-05-10T14:15:02.981712Z"
    }
   }
  },
  {
   "cell_type": "code",
   "execution_count": 88,
   "outputs": [],
   "source": [
    "variables_departamento=variables_departamento.reset_index()\n",
    "\n",
    "# Guardar el DataFrame\n",
    "variables_departamento.to_csv(r'G:\\Unidades compartidas\\Mau\\TrabajoFinalDeGraduacionMIAD\\Extraccion y limpieza DANE\\salidas\\variables_departamento.csv', index=False)"
   ],
   "metadata": {
    "collapsed": false,
    "ExecuteTime": {
     "start_time": "2023-05-10T14:15:05.911701Z",
     "end_time": "2023-05-10T14:15:05.942717Z"
    }
   }
  },
  {
   "cell_type": "markdown",
   "source": [
    "# IPM Variables por regiones"
   ],
   "metadata": {
    "collapsed": false
   }
  },
  {
   "cell_type": "code",
   "execution_count": null,
   "outputs": [],
   "source": [
    "\n",
    "#Funciones\n",
    "\n",
    "def procesar_dataframe(dataframe, nuevos_nombres, nombre_columna):\n",
    "    # Asignar los nuevos nombres de las columnas al DataFrame\n",
    "    dataframe.columns = nuevos_nombres\n",
    "    #Reemplazar las columnas con el primer valor de la fila\n",
    "    primer_valor = dataframe.iloc[0][nombre_columna]\n",
    "    dataframe.loc[:, nombre_columna] = primer_valor\n",
    "    return dataframe\n",
    "\n",
    "def unir_dataframes(df):\n",
    "    # Crea los dataframes de cada año\n",
    "    df_2018 = df.loc[:, ['region', 'variable', '2018']]\n",
    "    df_2019 = df.loc[:, ['region', 'variable', '2019']]\n",
    "    df_2020 = df.loc[:, ['region', 'variable', '2020']]\n",
    "    df_2021 = df.loc[:, ['region', 'variable', '2021']]\n",
    "\n",
    "\n",
    "\n",
    "    # Crea los dataframes pivote para cada año\n",
    "    df_2018_pivot = df_2018.pivot(index='region', columns='variable', values='2018')\n",
    "    df_2019_pivot = df_2019.pivot(index='region', columns='variable', values='2019')\n",
    "    df_2020_pivot = df_2020.pivot(index='region', columns='variable', values='2020')\n",
    "    df_2021_pivot = df_2021.pivot(index='region', columns='variable', values='2021')\n",
    "\n",
    "    # Agrega el ano\n",
    "    df_2018_pivot = df_2018_pivot.assign(anio=2018)\n",
    "    df_2019_pivot = df_2019_pivot.assign(anio=2019)\n",
    "    df_2020_pivot = df_2020_pivot.assign(anio=2020)\n",
    "    df_2021_pivot = df_2021_pivot.assign(anio=2021)\n",
    "\n",
    "    # Une los dataframes pivote\n",
    "    df_final = pd.concat([df_2018_pivot, df_2019_pivot,  df_2020_pivot,  df_2021_pivot], axis=0)\n",
    "\n",
    "    # Restablece el índice\n",
    "    df_final  =df_final .reset_index()\n",
    "\n",
    "    return df_final"
   ],
   "metadata": {
    "collapsed": false
   }
  },
  {
   "cell_type": "code",
   "execution_count": null,
   "outputs": [],
   "source": [
    "# Nombre de la hoja donde están los datos\n",
    "nombre_hoja = \"IPM_Variables_Región\""
   ],
   "metadata": {
    "collapsed": false
   }
  },
  {
   "cell_type": "code",
   "execution_count": null,
   "outputs": [],
   "source": [
    "\n",
    "# Extrear la variables que se necesitan\n",
    "variables_region_caribe = pd.read_excel(ruta_archivo, sheet_name=nombre_hoja, skiprows=range(13), nrows=15)\n",
    "variables_region_oriental = pd.read_excel(ruta_archivo, sheet_name=nombre_hoja, skiprows=range(38), nrows=15)\n",
    "variables_region_central = pd.read_excel(ruta_archivo, sheet_name=nombre_hoja, skiprows=range(63), nrows=15)\n",
    "variables_region_pacifica = pd.read_excel(ruta_archivo, sheet_name=nombre_hoja, skiprows=range(88), nrows=15)\n",
    "variables_region_bogota = pd.read_excel(ruta_archivo, sheet_name=nombre_hoja, skiprows=range(113), nrows=15)\n",
    "variables_region_antoquia = pd.read_excel(ruta_archivo, sheet_name=nombre_hoja, skiprows=range(138), nrows=15)\n",
    "variables_region_valle_del_cauca = pd.read_excel(ruta_archivo, sheet_name=nombre_hoja, skiprows=range(163), nrows=15)\n",
    "variables_region_san_andres = pd.read_excel(ruta_archivo, sheet_name=nombre_hoja, skiprows=range(189), nrows=15)\n",
    "variables_region_orinoquia_amazonia = pd.read_excel(ruta_archivo, sheet_name=nombre_hoja, skiprows=range(214), nrows=15)\n",
    "\n",
    "nuevos_nombres = ['region', 'variable', '2018', '2019','2020', '2021']\n",
    "nombre_columna = \"region\"\n",
    "\n",
    "variables_region_caribe = procesar_dataframe(variables_region_caribe, nuevos_nombres, nombre_columna)\n",
    "variables_region_oriental = procesar_dataframe(variables_region_oriental, nuevos_nombres, nombre_columna)\n",
    "variables_region_central = procesar_dataframe(variables_region_central, nuevos_nombres, nombre_columna)\n",
    "variables_region_pacifica = procesar_dataframe(variables_region_pacifica, nuevos_nombres, nombre_columna)\n",
    "variables_region_bogota = procesar_dataframe(variables_region_bogota, nuevos_nombres, nombre_columna)\n",
    "variables_region_antoquia = procesar_dataframe(variables_region_antoquia, nuevos_nombres, nombre_columna)\n",
    "variables_region_valle_del_cauca = procesar_dataframe(variables_region_valle_del_cauca, nuevos_nombres, nombre_columna)\n",
    "variables_region_san_andres = procesar_dataframe(variables_region_san_andres, nuevos_nombres, nombre_columna)\n",
    "variables_region_orinoquia_amazonia = procesar_dataframe(variables_region_orinoquia_amazonia, nuevos_nombres, nombre_columna)\n",
    "\n",
    "\n",
    "\n",
    "variables_region_caribe= unir_dataframes(variables_region_caribe)\n",
    "variables_region_oriental= unir_dataframes(variables_region_oriental)\n",
    "variables_region_central= unir_dataframes(variables_region_central)\n",
    "variables_region_pacifica= unir_dataframes(variables_region_pacifica)\n",
    "variables_region_bogota= unir_dataframes(variables_region_bogota)\n",
    "variables_region_antoquia= unir_dataframes(variables_region_antoquia)\n",
    "variables_region_valle_del_cauca= unir_dataframes(variables_region_valle_del_cauca)\n",
    "variables_region_san_andres= unir_dataframes(variables_region_san_andres)\n",
    "variables_region_orinoquia_amazonias= unir_dataframes(variables_region_orinoquia_amazonia)\n"
   ],
   "metadata": {
    "collapsed": false
   }
  },
  {
   "cell_type": "code",
   "execution_count": null,
   "outputs": [],
   "source": [
    "\n",
    "variables_region = pd.concat([variables_region_caribe, variables_region_oriental,\n",
    "                              variables_region_central, variables_region_pacifica,\n",
    "                              variables_region_bogota,variables_region_antoquia,\n",
    "                              variables_region_valle_del_cauca,variables_region_san_andres,\n",
    "                              variables_region_orinoquia_amazonias], axis=0)\n",
    "\n",
    "\n",
    "variables_region=variables_region.reset_index()"
   ],
   "metadata": {
    "collapsed": false
   }
  },
  {
   "cell_type": "code",
   "execution_count": null,
   "outputs": [],
   "source": [
    "variables_region.to_csv(r'G:\\Unidades compartidas\\Mau\\TrabajoFinalDeGraduacionMIAD\\Extraccion y limpieza DANE\\salidas\\variables_region.csv', index=False)"
   ],
   "metadata": {
    "collapsed": false
   }
  }
 ],
 "metadata": {
  "kernelspec": {
   "display_name": "Python 3",
   "language": "python",
   "name": "python3"
  },
  "language_info": {
   "codemirror_mode": {
    "name": "ipython",
    "version": 2
   },
   "file_extension": ".py",
   "mimetype": "text/x-python",
   "name": "python",
   "nbconvert_exporter": "python",
   "pygments_lexer": "ipython2",
   "version": "2.7.6"
  }
 },
 "nbformat": 4,
 "nbformat_minor": 0
}
