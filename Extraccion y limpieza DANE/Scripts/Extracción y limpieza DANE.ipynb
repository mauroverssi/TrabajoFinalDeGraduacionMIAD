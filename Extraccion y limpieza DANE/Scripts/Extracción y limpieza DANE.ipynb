{
 "cells": [
  {
   "cell_type": "markdown",
   "source": [
    "# Extracción de IPM por departamentos"
   ],
   "metadata": {
    "collapsed": false
   }
  },
  {
   "cell_type": "code",
   "execution_count": 13,
   "outputs": [],
   "source": [
    "import pandas as pd"
   ],
   "metadata": {
    "collapsed": false,
    "ExecuteTime": {
     "start_time": "2023-05-10T11:16:58.126660Z",
     "end_time": "2023-05-10T11:16:58.139661Z"
    }
   }
  },
  {
   "cell_type": "code",
   "execution_count": 39,
   "outputs": [],
   "source": [
    "#IPM departamentoes\n",
    "# Ruta al archivo Excel\n",
    "ruta_archivo = r\"G:\\Unidades compartidas\\Mau\\TrabajoFinalDeGraduacionMIAD\\Extraccion y limpieza DANE\\datos\\anexo_dptal_pobreza_multidimensional_21.xls\"\n"
   ],
   "metadata": {
    "collapsed": false,
    "ExecuteTime": {
     "start_time": "2023-05-10T11:37:30.305483Z",
     "end_time": "2023-05-10T11:37:30.313481Z"
    }
   }
  },
  {
   "cell_type": "code",
   "execution_count": 40,
   "outputs": [],
   "source": [
    "# Nombre de la hoja donde están los datos\n",
    "nombre_hoja = \"IPM_Departamentos\""
   ],
   "metadata": {
    "collapsed": false,
    "ExecuteTime": {
     "start_time": "2023-05-10T11:37:31.469197Z",
     "end_time": "2023-05-10T11:37:31.480199Z"
    }
   }
  },
  {
   "cell_type": "code",
   "execution_count": 41,
   "outputs": [],
   "source": [
    "# Saltar las primeras 15 filas y leer las filas 16 a 24\n",
    "ipm_departamentos = pd.read_excel(ruta_archivo, sheet_name=nombre_hoja, skiprows=range(14), nrows=33)\n",
    "\n"
   ],
   "metadata": {
    "collapsed": false,
    "ExecuteTime": {
     "start_time": "2023-05-10T11:37:32.414001Z",
     "end_time": "2023-05-10T11:37:32.522521Z"
    }
   }
  },
  {
   "cell_type": "code",
   "execution_count": 42,
   "outputs": [],
   "source": [
    "ipm_departamentos_2018 = ipm_departamentos.iloc[:, :4]\n",
    "ipm_departamentos_2019 = ipm_departamentos.iloc[:, [0, 4, 5, 6]]\n",
    "ipm_departamentos_2020 = ipm_departamentos.iloc[:, [0, 7, 8, 9]]\n",
    "ipm_departamentos_2021 = ipm_departamentos.iloc[:, [0, 10, 11, 12]]"
   ],
   "metadata": {
    "collapsed": false,
    "ExecuteTime": {
     "start_time": "2023-05-10T11:37:33.195967Z",
     "end_time": "2023-05-10T11:37:33.199968Z"
    }
   }
  },
  {
   "cell_type": "code",
   "execution_count": 43,
   "outputs": [],
   "source": [
    "ipm_departamentos_2018.columns = ['departamento', 'total', 'cabeceras', 'centros_poblados_rural_disperso']\n",
    "ipm_departamentos_2019.columns = ['departamento', 'total', 'cabeceras', 'centros_poblados_rural_disperso']\n",
    "ipm_departamentos_2020.columns = ['departamento', 'total', 'cabeceras', 'centros_poblados_rural_disperso']\n",
    "ipm_departamentos_2021.columns = ['departamento', 'total', 'cabeceras', 'centros_poblados_rural_disperso']\n"
   ],
   "metadata": {
    "collapsed": false,
    "ExecuteTime": {
     "start_time": "2023-05-10T11:37:34.272601Z",
     "end_time": "2023-05-10T11:37:34.288596Z"
    }
   }
  },
  {
   "cell_type": "code",
   "execution_count": 44,
   "outputs": [],
   "source": [
    "# Crear columna ipm utilizando melt\n",
    "ipm_departamentos_2018 = ipm_departamentos_2018.melt(id_vars=['departamento'], value_vars=['total', 'cabeceras', 'centros_poblados_rural_disperso'], var_name='tipo', value_name='ipm')\n",
    "ipm_departamentos_2019 = ipm_departamentos_2019.melt(id_vars=['departamento'], value_vars=['total', 'cabeceras', 'centros_poblados_rural_disperso'], var_name='tipo', value_name='ipm')\n",
    "ipm_departamentos_2020 = ipm_departamentos_2020.melt(id_vars=['departamento'], value_vars=['total', 'cabeceras', 'centros_poblados_rural_disperso'], var_name='tipo', value_name='ipm')\n",
    "ipm_departamentos_2021 = ipm_departamentos_2021.melt(id_vars=['departamento'], value_vars=['total', 'cabeceras', 'centros_poblados_rural_disperso'], var_name='tipo', value_name='ipm')\n",
    "\n",
    "# Crear columna tipo\n",
    "ipm_departamentos_2018['tipo'] = ipm_departamentos_2018['tipo'].map({'total': 'total', 'cabeceras': 'cabeceras', 'centros_poblados_rural_disperso': 'centros_poblados_rural_disperso'})\n",
    "ipm_departamentos_2019['tipo'] = ipm_departamentos_2019['tipo'].map({'total': 'total', 'cabeceras': 'cabeceras', 'centros_poblados_rural_disperso': 'centros_poblados_rural_disperso'})\n",
    "ipm_departamentos_2020['tipo'] = ipm_departamentos_2020['tipo'].map({'total': 'total', 'cabeceras': 'cabeceras', 'centros_poblados_rural_disperso': 'centros_poblados_rural_disperso'})\n",
    "ipm_departamentos_2021['tipo'] = ipm_departamentos_2021['tipo'].map({'total': 'total', 'cabeceras': 'cabeceras', 'centros_poblados_rural_disperso': 'centros_poblados_rural_disperso'})\n",
    "\n",
    "# Seleccionar columnas deseadas\n",
    "ipm_departamentos_2018 = ipm_departamentos_2018.loc[:, ['departamento', 'ipm', 'tipo']]\n",
    "ipm_departamentos_2019 = ipm_departamentos_2019.loc[:, ['departamento', 'ipm', 'tipo']]\n",
    "ipm_departamentos_2020 = ipm_departamentos_2020.loc[:, ['departamento', 'ipm', 'tipo']]\n",
    "ipm_departamentos_2021 = ipm_departamentos_2021.loc[:, ['departamento', 'ipm', 'tipo']]\n"
   ],
   "metadata": {
    "collapsed": false,
    "ExecuteTime": {
     "start_time": "2023-05-10T11:37:35.077750Z",
     "end_time": "2023-05-10T11:37:35.107287Z"
    }
   }
  },
  {
   "cell_type": "code",
   "execution_count": 46,
   "outputs": [],
   "source": [
    "# Crear columna año\n",
    "ipm_departamentos_2018['año'] = 2018\n",
    "ipm_departamentos_2019['año'] = 2019\n",
    "ipm_departamentos_2020['año'] = 2020\n",
    "ipm_departamentos_2021['año'] = 2021\n",
    "\n"
   ],
   "metadata": {
    "collapsed": false,
    "ExecuteTime": {
     "start_time": "2023-05-10T11:38:18.727868Z",
     "end_time": "2023-05-10T11:38:18.740877Z"
    }
   }
  },
  {
   "cell_type": "code",
   "execution_count": 47,
   "outputs": [],
   "source": [
    "# Concatenar\n",
    "ipm_departamentos = pd.concat([ipm_departamentos_2018, ipm_departamentos_2019, ipm_departamentos_2020, ipm_departamentos_2021], axis=0)\n"
   ],
   "metadata": {
    "collapsed": false,
    "ExecuteTime": {
     "start_time": "2023-05-10T11:38:34.863872Z",
     "end_time": "2023-05-10T11:38:34.882879Z"
    }
   }
  },
  {
   "cell_type": "code",
   "execution_count": 50,
   "outputs": [],
   "source": [
    " #Resetear el índice del DataFrame\n",
    "ipm_departamentos_final = ipm_departamentos.reset_index(drop=True)"
   ],
   "metadata": {
    "collapsed": false,
    "ExecuteTime": {
     "start_time": "2023-05-10T11:40:07.419461Z",
     "end_time": "2023-05-10T11:40:07.426459Z"
    }
   }
  },
  {
   "cell_type": "code",
   "execution_count": 52,
   "outputs": [],
   "source": [
    "#Extraer departamentos\n",
    "departamentos_unicos = ipm_departamentos_final[\"departamento\"].unique()"
   ],
   "metadata": {
    "collapsed": false,
    "ExecuteTime": {
     "start_time": "2023-05-10T11:40:46.123316Z",
     "end_time": "2023-05-10T11:40:46.150831Z"
    }
   }
  },
  {
   "cell_type": "code",
   "execution_count": 58,
   "outputs": [],
   "source": [
    "departamentos = pd.DataFrame(departamentos_unicos, columns=[\"region\"])\n",
    "\n",
    "departamentos.to_csv(r'G:\\Unidades compartidas\\Mau\\TrabajoFinalDeGraduacionMIAD\\Extraccion y limpieza DANE\\salidas\\departamentos.csv', index=False)"
   ],
   "metadata": {
    "collapsed": false,
    "ExecuteTime": {
     "start_time": "2023-05-10T11:43:55.856129Z",
     "end_time": "2023-05-10T11:43:55.865128Z"
    }
   }
  },
  {
   "cell_type": "code",
   "execution_count": 57,
   "outputs": [],
   "source": [
    "# Guardar el DataFrame ipm_departamentos_final como un archivo CSV\n",
    "ipm_departamentos.to_csv(r'G:\\Unidades compartidas\\Mau\\TrabajoFinalDeGraduacionMIAD\\Extraccion y limpieza DANE\\salidas\\ipm_departamentos.csv', index=False)"
   ],
   "metadata": {
    "collapsed": false,
    "ExecuteTime": {
     "start_time": "2023-05-10T11:43:19.092879Z",
     "end_time": "2023-05-10T11:43:19.112402Z"
    }
   }
  },
  {
   "cell_type": "markdown",
   "source": [
    "# IPM Regiones"
   ],
   "metadata": {
    "collapsed": false
   }
  },
  {
   "cell_type": "code",
   "execution_count": 59,
   "outputs": [],
   "source": [
    "nombre_hoja = \"IPM_Regiones\""
   ],
   "metadata": {
    "collapsed": false,
    "ExecuteTime": {
     "start_time": "2023-05-10T13:58:14.509494Z",
     "end_time": "2023-05-10T13:58:14.511496Z"
    }
   }
  },
  {
   "cell_type": "code",
   "execution_count": 60,
   "outputs": [],
   "source": [
    "# Saltar las primeras 15 filas y leer las filas 16 a 24\n",
    "ipm_regiones = pd.read_excel(ruta_archivo, sheet_name=nombre_hoja, skiprows=range(14), nrows=9)\n",
    "\n"
   ],
   "metadata": {
    "collapsed": false,
    "ExecuteTime": {
     "start_time": "2023-05-10T13:58:24.709670Z",
     "end_time": "2023-05-10T13:58:24.852671Z"
    }
   }
  },
  {
   "cell_type": "code",
   "execution_count": 62,
   "outputs": [
    {
     "data": {
      "text/plain": "                               Unnamed: 0  Total  Cabeceras  \\\n0                                  Caribe   32.9       24.9   \n1                                Oriental   15.7       11.3   \n2                                 Central   17.4       11.4   \n3  Pacífica (sin incluir Valle del Cauca)   32.8       20.0   \n4                                  Bogotá    4.1        4.1   \n5                               Antioquia   15.3        9.6   \n6                         Valle del Cauca   14.1       12.5   \n7                              San Andrés    8.5        8.5   \n8                      Orinoquía-Amazonía   29.8       20.0   \n\n   Centros poblados \\ny rural disperso  Total.1  Cabeceras.1  \\\n0                            53.292182     28.1         20.1   \n1                            27.338821     15.2         11.6   \n2                            32.374842     15.2         10.0   \n3                            41.892454     26.3         16.9   \n4                                  NaN      7.1          7.1   \n5                            35.387229     15.7         10.2   \n6                            23.235913     10.8          9.3   \n7                                  NaN      8.2          8.2   \n8                            42.472332     30.0         20.2   \n\n   Centros poblados \\ny rural disperso.1  Total.2  Cabeceras.2  \\\n0                                   48.7     28.7         20.6   \n1                                   25.2     14.5         10.7   \n2                                   28.4     17.9         11.4   \n3                                   32.9     30.9         17.0   \n4                                    NaN      7.5          7.5   \n5                                   35.9     14.9         10.2   \n6                                   19.4     11.1          8.9   \n7                                    NaN     11.9         11.9   \n8                                   42.8     32.2         21.5   \n\n   Centros poblados \\ny rural disperso.2  Total.3  Cabeceras.3  \\\n0                                   49.8     26.8         19.6   \n1                                   25.2     13.7         10.5   \n2                                   34.7     14.7         10.3   \n3                                   40.5     22.7         14.3   \n4                                    NaN      5.7          5.7   \n5                                   32.7     14.3         10.8   \n6                                   24.1      8.6          6.9   \n7                                    NaN      7.0          7.0   \n8                                   46.5     28.6         21.0   \n\n   Centros poblados \\ny rural disperso.3  \n0                                   45.3  \n1                                   23.0  \n2                                   26.0  \n3                                   28.6  \n4                                    NaN  \n5                                   28.0  \n6                                   18.6  \n7                                    NaN  \n8                                   39.0  ",
      "text/html": "<div>\n<style scoped>\n    .dataframe tbody tr th:only-of-type {\n        vertical-align: middle;\n    }\n\n    .dataframe tbody tr th {\n        vertical-align: top;\n    }\n\n    .dataframe thead th {\n        text-align: right;\n    }\n</style>\n<table border=\"1\" class=\"dataframe\">\n  <thead>\n    <tr style=\"text-align: right;\">\n      <th></th>\n      <th>Unnamed: 0</th>\n      <th>Total</th>\n      <th>Cabeceras</th>\n      <th>Centros poblados \\ny rural disperso</th>\n      <th>Total.1</th>\n      <th>Cabeceras.1</th>\n      <th>Centros poblados \\ny rural disperso.1</th>\n      <th>Total.2</th>\n      <th>Cabeceras.2</th>\n      <th>Centros poblados \\ny rural disperso.2</th>\n      <th>Total.3</th>\n      <th>Cabeceras.3</th>\n      <th>Centros poblados \\ny rural disperso.3</th>\n    </tr>\n  </thead>\n  <tbody>\n    <tr>\n      <th>0</th>\n      <td>Caribe</td>\n      <td>32.9</td>\n      <td>24.9</td>\n      <td>53.292182</td>\n      <td>28.1</td>\n      <td>20.1</td>\n      <td>48.7</td>\n      <td>28.7</td>\n      <td>20.6</td>\n      <td>49.8</td>\n      <td>26.8</td>\n      <td>19.6</td>\n      <td>45.3</td>\n    </tr>\n    <tr>\n      <th>1</th>\n      <td>Oriental</td>\n      <td>15.7</td>\n      <td>11.3</td>\n      <td>27.338821</td>\n      <td>15.2</td>\n      <td>11.6</td>\n      <td>25.2</td>\n      <td>14.5</td>\n      <td>10.7</td>\n      <td>25.2</td>\n      <td>13.7</td>\n      <td>10.5</td>\n      <td>23.0</td>\n    </tr>\n    <tr>\n      <th>2</th>\n      <td>Central</td>\n      <td>17.4</td>\n      <td>11.4</td>\n      <td>32.374842</td>\n      <td>15.2</td>\n      <td>10.0</td>\n      <td>28.4</td>\n      <td>17.9</td>\n      <td>11.4</td>\n      <td>34.7</td>\n      <td>14.7</td>\n      <td>10.3</td>\n      <td>26.0</td>\n    </tr>\n    <tr>\n      <th>3</th>\n      <td>Pacífica (sin incluir Valle del Cauca)</td>\n      <td>32.8</td>\n      <td>20.0</td>\n      <td>41.892454</td>\n      <td>26.3</td>\n      <td>16.9</td>\n      <td>32.9</td>\n      <td>30.9</td>\n      <td>17.0</td>\n      <td>40.5</td>\n      <td>22.7</td>\n      <td>14.3</td>\n      <td>28.6</td>\n    </tr>\n    <tr>\n      <th>4</th>\n      <td>Bogotá</td>\n      <td>4.1</td>\n      <td>4.1</td>\n      <td>NaN</td>\n      <td>7.1</td>\n      <td>7.1</td>\n      <td>NaN</td>\n      <td>7.5</td>\n      <td>7.5</td>\n      <td>NaN</td>\n      <td>5.7</td>\n      <td>5.7</td>\n      <td>NaN</td>\n    </tr>\n    <tr>\n      <th>5</th>\n      <td>Antioquia</td>\n      <td>15.3</td>\n      <td>9.6</td>\n      <td>35.387229</td>\n      <td>15.7</td>\n      <td>10.2</td>\n      <td>35.9</td>\n      <td>14.9</td>\n      <td>10.2</td>\n      <td>32.7</td>\n      <td>14.3</td>\n      <td>10.8</td>\n      <td>28.0</td>\n    </tr>\n    <tr>\n      <th>6</th>\n      <td>Valle del Cauca</td>\n      <td>14.1</td>\n      <td>12.5</td>\n      <td>23.235913</td>\n      <td>10.8</td>\n      <td>9.3</td>\n      <td>19.4</td>\n      <td>11.1</td>\n      <td>8.9</td>\n      <td>24.1</td>\n      <td>8.6</td>\n      <td>6.9</td>\n      <td>18.6</td>\n    </tr>\n    <tr>\n      <th>7</th>\n      <td>San Andrés</td>\n      <td>8.5</td>\n      <td>8.5</td>\n      <td>NaN</td>\n      <td>8.2</td>\n      <td>8.2</td>\n      <td>NaN</td>\n      <td>11.9</td>\n      <td>11.9</td>\n      <td>NaN</td>\n      <td>7.0</td>\n      <td>7.0</td>\n      <td>NaN</td>\n    </tr>\n    <tr>\n      <th>8</th>\n      <td>Orinoquía-Amazonía</td>\n      <td>29.8</td>\n      <td>20.0</td>\n      <td>42.472332</td>\n      <td>30.0</td>\n      <td>20.2</td>\n      <td>42.8</td>\n      <td>32.2</td>\n      <td>21.5</td>\n      <td>46.5</td>\n      <td>28.6</td>\n      <td>21.0</td>\n      <td>39.0</td>\n    </tr>\n  </tbody>\n</table>\n</div>"
     },
     "execution_count": 62,
     "metadata": {},
     "output_type": "execute_result"
    }
   ],
   "source": [
    "ipm_regiones"
   ],
   "metadata": {
    "collapsed": false,
    "ExecuteTime": {
     "start_time": "2023-05-10T13:58:35.023290Z",
     "end_time": "2023-05-10T13:58:35.039290Z"
    }
   }
  },
  {
   "cell_type": "code",
   "execution_count": 63,
   "outputs": [],
   "source": [
    "ipm_regiones_2018 = ipm_regiones.iloc[:, :4]\n",
    "ipm_regiones_2019 = ipm_regiones.iloc[:, [0, 4, 5, 6]]\n",
    "ipm_regiones_2020 = ipm_regiones.iloc[:, [0, 7, 8, 9]]\n",
    "ipm_regiones_2021 = ipm_regiones.iloc[:, [0, 10, 11, 12]]"
   ],
   "metadata": {
    "collapsed": false,
    "ExecuteTime": {
     "start_time": "2023-05-10T13:59:08.596820Z",
     "end_time": "2023-05-10T13:59:08.603821Z"
    }
   }
  },
  {
   "cell_type": "code",
   "execution_count": 64,
   "outputs": [],
   "source": [
    "ipm_regiones_2018.columns = ['region', 'total', 'cabeceras', 'centros_poblados_rural_disperso']\n",
    "ipm_regiones_2019.columns = ['region', 'total', 'cabeceras', 'centros_poblados_rural_disperso']\n",
    "ipm_regiones_2020.columns = ['region', 'total', 'cabeceras', 'centros_poblados_rural_disperso']\n",
    "ipm_regiones_2021.columns = ['region', 'total', 'cabeceras', 'centros_poblados_rural_disperso']"
   ],
   "metadata": {
    "collapsed": false,
    "ExecuteTime": {
     "start_time": "2023-05-10T13:59:32.960475Z",
     "end_time": "2023-05-10T13:59:32.963475Z"
    }
   }
  },
  {
   "cell_type": "code",
   "execution_count": 66,
   "outputs": [],
   "source": [
    "# Crear columna ipm utilizando melt\n",
    "ipm_regiones_2018 = ipm_regiones_2018.melt(id_vars=['region'], value_vars=['total', 'cabeceras', 'centros_poblados_rural_disperso'], var_name='tipo', value_name='ipm')\n",
    "ipm_regiones_2019 = ipm_regiones_2019.melt(id_vars=['region'], value_vars=['total', 'cabeceras', 'centros_poblados_rural_disperso'], var_name='tipo', value_name='ipm')\n",
    "ipm_regiones_2020 = ipm_regiones_2020.melt(id_vars=['region'], value_vars=['total', 'cabeceras', 'centros_poblados_rural_disperso'], var_name='tipo', value_name='ipm')\n",
    "ipm_regiones_2021 = ipm_regiones_2021.melt(id_vars=['region'], value_vars=['total', 'cabeceras', 'centros_poblados_rural_disperso'], var_name='tipo', value_name='ipm')\n",
    "\n"
   ],
   "metadata": {
    "collapsed": false,
    "ExecuteTime": {
     "start_time": "2023-05-10T14:00:13.561980Z",
     "end_time": "2023-05-10T14:00:13.583979Z"
    }
   }
  },
  {
   "cell_type": "code",
   "execution_count": 67,
   "outputs": [],
   "source": [
    "# Crear columna tipo\n",
    "ipm_regiones_2018['tipo'] = ipm_regiones_2018['tipo'].map({'total': 'total', 'cabeceras': 'cabeceras', 'centros_poblados_rural_disperso': 'centros_poblados_rural_disperso'})\n",
    "ipm_regiones_2019['tipo'] = ipm_regiones_2019['tipo'].map({'total': 'total', 'cabeceras': 'cabeceras', 'centros_poblados_rural_disperso': 'centros_poblados_rural_disperso'})\n",
    "ipm_regiones_2020['tipo'] = ipm_regiones_2020['tipo'].map({'total': 'total', 'cabeceras': 'cabeceras', 'centros_poblados_rural_disperso': 'centros_poblados_rural_disperso'})\n",
    "ipm_regiones_2021['tipo'] = ipm_regiones_2021['tipo'].map({'total': 'total', 'cabeceras': 'cabeceras', 'centros_poblados_rural_disperso': 'centros_poblados_rural_disperso'})\n"
   ],
   "metadata": {
    "collapsed": false,
    "ExecuteTime": {
     "start_time": "2023-05-10T14:00:48.006212Z",
     "end_time": "2023-05-10T14:00:48.016211Z"
    }
   }
  },
  {
   "cell_type": "code",
   "execution_count": 69,
   "outputs": [],
   "source": [
    "# Crear columna año\n",
    "ipm_regiones_2018['año'] = 2018\n",
    "ipm_regiones_2019['año'] = 2019\n",
    "ipm_regiones_2020['año'] = 2020\n",
    "ipm_regiones_2021['año'] = 2021\n"
   ],
   "metadata": {
    "collapsed": false,
    "ExecuteTime": {
     "start_time": "2023-05-10T14:01:24.499793Z",
     "end_time": "2023-05-10T14:01:24.521839Z"
    }
   }
  },
  {
   "cell_type": "code",
   "execution_count": 70,
   "outputs": [],
   "source": [
    "# Concatenar\n",
    "ipm_regiones = pd.concat([ipm_regiones_2018, ipm_regiones_2019, ipm_regiones_2020, ipm_regiones_2021], axis=0)\n"
   ],
   "metadata": {
    "collapsed": false,
    "ExecuteTime": {
     "start_time": "2023-05-10T14:01:43.745200Z",
     "end_time": "2023-05-10T14:01:43.763200Z"
    }
   }
  },
  {
   "cell_type": "code",
   "execution_count": 71,
   "outputs": [],
   "source": [
    "#Resetear el índice del DataFrame\n",
    "ipm_regiones_final = ipm_regiones.reset_index(drop=True)\n"
   ],
   "metadata": {
    "collapsed": false,
    "ExecuteTime": {
     "start_time": "2023-05-10T14:01:58.966916Z",
     "end_time": "2023-05-10T14:01:58.974915Z"
    }
   }
  },
  {
   "cell_type": "code",
   "execution_count": 72,
   "outputs": [],
   "source": [
    "#Extraer regiones\n",
    "regiones_unicas = ipm_regiones_final[\"region\"].unique()\n"
   ],
   "metadata": {
    "collapsed": false,
    "ExecuteTime": {
     "start_time": "2023-05-10T14:02:22.991248Z",
     "end_time": "2023-05-10T14:02:23.002249Z"
    }
   }
  },
  {
   "cell_type": "code",
   "execution_count": 73,
   "outputs": [],
   "source": [
    "regiones = pd.DataFrame(regiones_unicas, columns=[\"region\"])\n"
   ],
   "metadata": {
    "collapsed": false,
    "ExecuteTime": {
     "start_time": "2023-05-10T14:02:31.012530Z",
     "end_time": "2023-05-10T14:02:31.021530Z"
    }
   }
  },
  {
   "cell_type": "code",
   "execution_count": 74,
   "outputs": [],
   "source": [
    "regiones.to_csv(r'G:\\Unidades compartidas\\Mau\\TrabajoFinalDeGraduacionMIAD\\Extraccion y limpieza DANE\\salidas\\regiones.csv', index=False)"
   ],
   "metadata": {
    "collapsed": false,
    "ExecuteTime": {
     "start_time": "2023-05-10T14:02:38.573437Z",
     "end_time": "2023-05-10T14:02:38.603453Z"
    }
   }
  },
  {
   "cell_type": "code",
   "execution_count": 75,
   "outputs": [],
   "source": [
    "# Guardar el DataFrame ipm_regiones_final como un archivo CSV\n",
    "ipm_regiones_final.to_csv(r'G:\\Unidades compartidas\\Mau\\TrabajoFinalDeGraduacionMIAD\\Extraccion y limpieza DANE\\salidas\\ipm_regiones.csv', index=False)\n"
   ],
   "metadata": {
    "collapsed": false,
    "ExecuteTime": {
     "start_time": "2023-05-10T14:02:52.998018Z",
     "end_time": "2023-05-10T14:02:53.013015Z"
    }
   }
  },
  {
   "cell_type": "code",
   "execution_count": 68,
   "outputs": [
    {
     "data": {
      "text/plain": "                                    region                             tipo  \\\n0                                   Caribe                            total   \n1                                 Oriental                            total   \n2                                  Central                            total   \n3   Pacífica (sin incluir Valle del Cauca)                            total   \n4                                   Bogotá                            total   \n5                                Antioquia                            total   \n6                          Valle del Cauca                            total   \n7                               San Andrés                            total   \n8                       Orinoquía-Amazonía                            total   \n9                                   Caribe                        cabeceras   \n10                                Oriental                        cabeceras   \n11                                 Central                        cabeceras   \n12  Pacífica (sin incluir Valle del Cauca)                        cabeceras   \n13                                  Bogotá                        cabeceras   \n14                               Antioquia                        cabeceras   \n15                         Valle del Cauca                        cabeceras   \n16                              San Andrés                        cabeceras   \n17                      Orinoquía-Amazonía                        cabeceras   \n18                                  Caribe  centros_poblados_rural_disperso   \n19                                Oriental  centros_poblados_rural_disperso   \n20                                 Central  centros_poblados_rural_disperso   \n21  Pacífica (sin incluir Valle del Cauca)  centros_poblados_rural_disperso   \n22                                  Bogotá  centros_poblados_rural_disperso   \n23                               Antioquia  centros_poblados_rural_disperso   \n24                         Valle del Cauca  centros_poblados_rural_disperso   \n25                              San Andrés  centros_poblados_rural_disperso   \n26                      Orinoquía-Amazonía  centros_poblados_rural_disperso   \n\n          ipm  \n0   32.900000  \n1   15.700000  \n2   17.400000  \n3   32.800000  \n4    4.100000  \n5   15.300000  \n6   14.100000  \n7    8.500000  \n8   29.800000  \n9   24.900000  \n10  11.300000  \n11  11.400000  \n12  20.000000  \n13   4.100000  \n14   9.600000  \n15  12.500000  \n16   8.500000  \n17  20.000000  \n18  53.292182  \n19  27.338821  \n20  32.374842  \n21  41.892454  \n22        NaN  \n23  35.387229  \n24  23.235913  \n25        NaN  \n26  42.472332  ",
      "text/html": "<div>\n<style scoped>\n    .dataframe tbody tr th:only-of-type {\n        vertical-align: middle;\n    }\n\n    .dataframe tbody tr th {\n        vertical-align: top;\n    }\n\n    .dataframe thead th {\n        text-align: right;\n    }\n</style>\n<table border=\"1\" class=\"dataframe\">\n  <thead>\n    <tr style=\"text-align: right;\">\n      <th></th>\n      <th>region</th>\n      <th>tipo</th>\n      <th>ipm</th>\n    </tr>\n  </thead>\n  <tbody>\n    <tr>\n      <th>0</th>\n      <td>Caribe</td>\n      <td>total</td>\n      <td>32.900000</td>\n    </tr>\n    <tr>\n      <th>1</th>\n      <td>Oriental</td>\n      <td>total</td>\n      <td>15.700000</td>\n    </tr>\n    <tr>\n      <th>2</th>\n      <td>Central</td>\n      <td>total</td>\n      <td>17.400000</td>\n    </tr>\n    <tr>\n      <th>3</th>\n      <td>Pacífica (sin incluir Valle del Cauca)</td>\n      <td>total</td>\n      <td>32.800000</td>\n    </tr>\n    <tr>\n      <th>4</th>\n      <td>Bogotá</td>\n      <td>total</td>\n      <td>4.100000</td>\n    </tr>\n    <tr>\n      <th>5</th>\n      <td>Antioquia</td>\n      <td>total</td>\n      <td>15.300000</td>\n    </tr>\n    <tr>\n      <th>6</th>\n      <td>Valle del Cauca</td>\n      <td>total</td>\n      <td>14.100000</td>\n    </tr>\n    <tr>\n      <th>7</th>\n      <td>San Andrés</td>\n      <td>total</td>\n      <td>8.500000</td>\n    </tr>\n    <tr>\n      <th>8</th>\n      <td>Orinoquía-Amazonía</td>\n      <td>total</td>\n      <td>29.800000</td>\n    </tr>\n    <tr>\n      <th>9</th>\n      <td>Caribe</td>\n      <td>cabeceras</td>\n      <td>24.900000</td>\n    </tr>\n    <tr>\n      <th>10</th>\n      <td>Oriental</td>\n      <td>cabeceras</td>\n      <td>11.300000</td>\n    </tr>\n    <tr>\n      <th>11</th>\n      <td>Central</td>\n      <td>cabeceras</td>\n      <td>11.400000</td>\n    </tr>\n    <tr>\n      <th>12</th>\n      <td>Pacífica (sin incluir Valle del Cauca)</td>\n      <td>cabeceras</td>\n      <td>20.000000</td>\n    </tr>\n    <tr>\n      <th>13</th>\n      <td>Bogotá</td>\n      <td>cabeceras</td>\n      <td>4.100000</td>\n    </tr>\n    <tr>\n      <th>14</th>\n      <td>Antioquia</td>\n      <td>cabeceras</td>\n      <td>9.600000</td>\n    </tr>\n    <tr>\n      <th>15</th>\n      <td>Valle del Cauca</td>\n      <td>cabeceras</td>\n      <td>12.500000</td>\n    </tr>\n    <tr>\n      <th>16</th>\n      <td>San Andrés</td>\n      <td>cabeceras</td>\n      <td>8.500000</td>\n    </tr>\n    <tr>\n      <th>17</th>\n      <td>Orinoquía-Amazonía</td>\n      <td>cabeceras</td>\n      <td>20.000000</td>\n    </tr>\n    <tr>\n      <th>18</th>\n      <td>Caribe</td>\n      <td>centros_poblados_rural_disperso</td>\n      <td>53.292182</td>\n    </tr>\n    <tr>\n      <th>19</th>\n      <td>Oriental</td>\n      <td>centros_poblados_rural_disperso</td>\n      <td>27.338821</td>\n    </tr>\n    <tr>\n      <th>20</th>\n      <td>Central</td>\n      <td>centros_poblados_rural_disperso</td>\n      <td>32.374842</td>\n    </tr>\n    <tr>\n      <th>21</th>\n      <td>Pacífica (sin incluir Valle del Cauca)</td>\n      <td>centros_poblados_rural_disperso</td>\n      <td>41.892454</td>\n    </tr>\n    <tr>\n      <th>22</th>\n      <td>Bogotá</td>\n      <td>centros_poblados_rural_disperso</td>\n      <td>NaN</td>\n    </tr>\n    <tr>\n      <th>23</th>\n      <td>Antioquia</td>\n      <td>centros_poblados_rural_disperso</td>\n      <td>35.387229</td>\n    </tr>\n    <tr>\n      <th>24</th>\n      <td>Valle del Cauca</td>\n      <td>centros_poblados_rural_disperso</td>\n      <td>23.235913</td>\n    </tr>\n    <tr>\n      <th>25</th>\n      <td>San Andrés</td>\n      <td>centros_poblados_rural_disperso</td>\n      <td>NaN</td>\n    </tr>\n    <tr>\n      <th>26</th>\n      <td>Orinoquía-Amazonía</td>\n      <td>centros_poblados_rural_disperso</td>\n      <td>42.472332</td>\n    </tr>\n  </tbody>\n</table>\n</div>"
     },
     "execution_count": 68,
     "metadata": {},
     "output_type": "execute_result"
    }
   ],
   "source": [
    "ipm_regiones_2018"
   ],
   "metadata": {
    "collapsed": false,
    "ExecuteTime": {
     "start_time": "2023-05-10T14:00:51.145676Z",
     "end_time": "2023-05-10T14:00:51.171676Z"
    }
   }
  },
  {
   "cell_type": "code",
   "execution_count": null,
   "outputs": [],
   "source": [],
   "metadata": {
    "collapsed": false
   }
  },
  {
   "cell_type": "code",
   "execution_count": null,
   "outputs": [],
   "source": [],
   "metadata": {
    "collapsed": false
   }
  }
 ],
 "metadata": {
  "kernelspec": {
   "display_name": "Python 3",
   "language": "python",
   "name": "python3"
  },
  "language_info": {
   "codemirror_mode": {
    "name": "ipython",
    "version": 2
   },
   "file_extension": ".py",
   "mimetype": "text/x-python",
   "name": "python",
   "nbconvert_exporter": "python",
   "pygments_lexer": "ipython2",
   "version": "2.7.6"
  }
 },
 "nbformat": 4,
 "nbformat_minor": 0
}
