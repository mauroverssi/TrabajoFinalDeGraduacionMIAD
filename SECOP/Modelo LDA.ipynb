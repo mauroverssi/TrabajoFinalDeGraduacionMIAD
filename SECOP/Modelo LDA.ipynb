{
 "cells": [
  {
   "cell_type": "markdown",
   "source": [
    "---\n",
    "title: \"Modelo LDA para la clasificación de contratos de obra\"\n",
    "author: \"Mauricio Roverssi Alvarado\"\n",
    "date: \"2023-04-23\"\n",
    "version: \"1.0\"\n",
    "---"
   ],
   "metadata": {
    "collapsed": false
   }
  },
  {
   "cell_type": "markdown",
   "source": [
    "# Modelo LDA para la clasificación de contratos de obra"
   ],
   "metadata": {
    "collapsed": false
   }
  },
  {
   "cell_type": "markdown",
   "source": [
    "Este notebook contiene el código para la creación del modelo LDA para la clasificación de contratos de obra. El modelo se crea a partir de los datos de los contratos de obra del SECOP II. Se utiliza la librería Gensim para la creación del modelo y la librería pyLDAvis para la visualización de los resultados.\n",
    "\n",
    "Secciones del notebook:\n",
    "1. Cargar librerías\n",
    "2. Funciones\n",
    "3. Carga de datos - Detalle del objeto a contratar\n",
    "4. Creación del diccionario\n",
    "5. Creación del corpus\n",
    "6. Creación del modelo LDA\n",
    "7. Búsqueda del número óptimo de tópicos con coherence score\n",
    "8. Modelo LDA Optimizado\n",
    "9. Método para incluir bigramas y trigramas en el modelo\n",
    "10. Función para visualizar los tópicos con perplejidad"
   ],
   "metadata": {
    "collapsed": false
   }
  },
  {
   "cell_type": "markdown",
   "source": [
    "## Cargar librerías"
   ],
   "metadata": {
    "collapsed": false
   }
  },
  {
   "cell_type": "code",
   "execution_count": 4,
   "outputs": [],
   "source": [
    "# Librerias\n",
    "\n",
    "import csv\n",
    "import pandas as pd\n",
    "from gensim import corpora\n",
    "from gensim.utils import simple_preprocess\n",
    "from gensim.utils import deaccent\n",
    "\n",
    "from nltk.corpus import stopwords\n",
    "\n",
    "lista_stopwords = stopwords.words(\"spanish\")\n",
    "\n",
    "import spacy\n",
    "\n",
    "# Cargar el modelo de spacy para el idioma español\n",
    "nlp = spacy.load(\"es_core_news_md\")\n",
    "\n",
    "# Importadas por JP\n",
    "import time\n",
    "from pprint import pprint\n",
    "from gensim.models import LdaModel\n",
    "import pyLDAvis\n",
    "import pyLDAvis.gensim_models as gensimvis"
   ],
   "metadata": {
    "collapsed": false,
    "ExecuteTime": {
     "start_time": "2023-04-23T10:11:36.318197Z",
     "end_time": "2023-04-23T10:11:40.585722Z"
    }
   }
  },
  {
   "cell_type": "markdown",
   "source": [
    "## Funciones"
   ],
   "metadata": {
    "collapsed": false
   }
  },
  {
   "cell_type": "code",
   "execution_count": 2,
   "outputs": [],
   "source": [
    "# Funciones\n",
    "\n",
    "## Función para abrir e iterar el archivo de los contratos linea por linea\n",
    "\n",
    "def iter_csv_file(filename, column_name):\n",
    "    \"\"\"\n",
    "    Esta función toma un archivo CSV y el nombre de una columna y devuelve un iterador que\n",
    "    produce los valores de esa columna para cada fila en el archivo.\n",
    "\n",
    "    Argumentos:\n",
    "        filename (str): El nombre del archivo CSV a leer.\n",
    "        column_name (str): El nombre de la columna en la que queremos iterar.\n",
    "\n",
    "    Yields:\n",
    "        El valor de la columna especificada para cada fila en el archivo.\n",
    "\n",
    "    Ejemplo de uso:\n",
    "\n",
    "    >>> for value in iter_csv_file('datos.csv', 'edad'):\n",
    "            print(value)\n",
    "\n",
    "        27\n",
    "        35\n",
    "        42\n",
    "        18\n",
    "        ...\n",
    "    \"\"\"\n",
    "    with open(filename, 'r', encoding='utf-8') as csvfile:\n",
    "        reader = csv.DictReader(csvfile)\n",
    "        for row in reader:\n",
    "            yield row[column_name]\n",
    "\n",
    "## Función para iterar la fila de una columna de un dataframe linea por linea, se utiliza para generar el corpus\n",
    "\n",
    "def iter_dataframe(df, column_name):\n",
    "    \"\"\"\n",
    "    Esta función toma un DataFrame de pandas y el nombre de una columna y devuelve un iterador que\n",
    "    produce los tokens lematizados para cada fila en la columna especificada.\n",
    "\n",
    "    Argumentos:\n",
    "        df (pandas.DataFrame): El DataFrame de pandas a leer.\n",
    "        column_name (str): El nombre de la columna en la que queremos iterar.\n",
    "\n",
    "    Yields:\n",
    "        Una lista de los tokens lematizados para cada fila en la columna especificada.\n",
    "    \"\"\"\n",
    "    for line in df[column_name]:\n",
    "        # Tokeniza la línea utilizando simple_preprocess y se eliminan las palabras menores a 3 letras y los acentos\n",
    "        tokens = simple_preprocess(line, deacc=True, min_len=3)\n",
    "        # Se remueven las stopwords y las palabras que aparecen solo una vez antes de aplicar la lematización\n",
    "        doc = [token for token in nlp(' '.join(tokens).lower()) if token.text not in lista_stopwords]\n",
    "        yield [token.lemma_ for token in doc]\n",
    "\n",
    "\n",
    "## Función para iterar una columna y devolver una lista de lemas se utiliza para generar el diccionario\n",
    "\n",
    "\n",
    "\n",
    "def iter_column(df, col_name):\n",
    "    \"\"\"\n",
    "    Esta función toma un DataFrame de pandas y el nombre de una columna y devuelve un iterador que\n",
    "    produce una lista de lemas para cada línea en la columna especificada.\n",
    "\n",
    "    Argumentos:\n",
    "        df (pandas.DataFrame): El DataFrame de pandas a leer.\n",
    "        col_name (str): El nombre de la columna en la que queremos iterar.\n",
    "\n",
    "    Yields:\n",
    "        Una lista de lemas para cada línea en la columna especificada.\n",
    "\n",
    "    Ejemplo de uso:\n",
    "\n",
    "    >>> for lemmas in iter_column(df, 'texto'):\n",
    "            print(lemmas)\n",
    "\n",
    "        ['comprar', 'manzana', 'pera', 'naranja']\n",
    "        ['ir', 'cine', 'amigo']\n",
    "        ['cocinar', 'comida', 'saludable', 'cena']\n",
    "        ...\n",
    "    \"\"\"\n",
    "    # Itera sobre cada línea en la columna especificada\n",
    "    for line in df[col_name]:\n",
    "        # Se eliminan los acentos de las palabras en la línea utilizando unidecode\n",
    "        # Tokeniza la línea utilizando simple_preprocess\n",
    "        tokens = simple_preprocess(line, deacc=True,min_len=3)\n",
    "        # Se remueven las stopwords y las palabras que aparecen solo una vez antes de aplicar la lematización\n",
    "        doc = [token for token in nlp(' '.join(tokens).lower()) if token.text not in lista_stopwords]\n",
    "        # Itera sobre cada token en el objeto Doc y devuelve su forma lematizada utilizando el atributo lemma_\n",
    "        lemmas = [token.lemma_ for token in doc]\n",
    "        lemmas = [deaccent(lemma) for lemma in lemmas]\n",
    "        # Genera una lista de lemas para cada línea en la columna de entrada utilizando la sentencia yield\n",
    "        yield lemmas\n",
    "\n",
    "\n",
    "## Función para crear el corpus a partir de todos los datos\n",
    "\n",
    "class MyCorpus():\n",
    "    \"\"\"\n",
    "    Esta clase es una implementación de la interfaz de corpus de Gensim, que define cómo se accede a los documentos en un corpus de texto.\n",
    "    \"\"\"\n",
    "\n",
    "    # Constructor de la clase MyCorpus\n",
    "    def __init__(self, dictionary):\n",
    "        \"\"\"\n",
    "        Constructor de la clase MyCorpus.\n",
    "\n",
    "        Argumentos:\n",
    "        dictionary (gensim.corpora.Dictionary): Objeto de diccionario de Gensim que se utilizará para crear bolsas de palabras.\n",
    "        \"\"\"\n",
    "        self.dictionary = dictionary\n",
    "\n",
    "    # Método que devuelve un generador que produce bolsas de palabras para cada línea en el archivo CSV\n",
    "    def __iter__(self):\n",
    "        \"\"\"\n",
    "        Método que devuelve un generador que produce bolsas de palabras para cada línea en el archivo CSV.\n",
    "\n",
    "        Yields:\n",
    "        Una bolsa de palabras para cada línea en el archivo CSV.\n",
    "        \"\"\"\n",
    "        # Itera sobre cada línea en el archivo CSV utilizando el método iter_csv_file\n",
    "        for line in iter_csv_file('datos/df_secop_obra.csv', 'Detalle_Objeto_Contratar'):\n",
    "            # Convierte la lista de lemas en una bolsa de palabras utilizando el método doc2bow de self.dictionary\n",
    "            yield self.dictionary.doc2bow(line.split())\n",
    "\n",
    "\n",
    "# Función para crear el corpus a partir de la muestra\n",
    "class MyCorpus_sample():\n",
    "    \"\"\"\n",
    "    Esta clase es una implementación de la interfaz de corpus de Gensim, que define cómo se accede a los documentos en un corpus de texto.\n",
    "    \"\"\"\n",
    "\n",
    "    # Constructor de la clase MyCorpus\n",
    "    def __init__(self, dictionary, df, column_name):\n",
    "        \"\"\"\n",
    "        Constructor de la clase MyCorpus.\n",
    "\n",
    "        Argumentos:\n",
    "        dictionary (gensim.corpora.Dictionary): Objeto de diccionario de Gensim que se utilizará para crear bolsas de palabras.\n",
    "        df (pandas.DataFrame): El DataFrame de pandas a leer.\n",
    "        column_name (str): El nombre de la columna en el que queremos iterar.\n",
    "        \"\"\"\n",
    "        self.dictionary = dictionary\n",
    "        self.df = df\n",
    "        self.column_name = column_name\n",
    "\n",
    "    # Método que devuelve un generador que produce bolsas de palabras para cada línea en el dataframe\n",
    "    def __iter__(self):\n",
    "        \"\"\"\n",
    "        Método que devuelve un generador que produce bolsas de palabras para cada línea en el dataframe.\n",
    "\n",
    "        Yields:\n",
    "        Una bolsa de palabras para cada línea en el dataframe.\n",
    "        \"\"\"\n",
    "        # Itera sobre cada línea en el dataframe utilizando el método iter_dataframe\n",
    "        for line in iter_dataframe(self.df, self.column_name):\n",
    "            # Convierte la lista de lemas en una bolsa de palabras utilizando el método doc2bow de self.dictionary\n",
    "            yield self.dictionary.doc2bow(' '.join(line).split())\n"
   ],
   "metadata": {
    "collapsed": false,
    "ExecuteTime": {
     "start_time": "2023-04-23T10:10:10.995023Z",
     "end_time": "2023-04-23T10:10:11.017022Z"
    }
   }
  },
  {
   "cell_type": "markdown",
   "source": [
    "## Carga de datos - Objeto de contratos"
   ],
   "metadata": {
    "collapsed": false
   }
  },
  {
   "cell_type": "code",
   "execution_count": 7,
   "outputs": [],
   "source": [
    "# Se carga el archivo csv con los datos de los contratos\n",
    "datos = pd.read_csv('datos/df_secop_obra.csv', encoding='utf-8', low_memory=False)\n",
    "\n",
    "## Pasar la columna Detalle_Objeto_Contratar de object a string porque sino da un error\n",
    "datos['Detalle_Objeto_Contratar']=datos['Detalle_Objeto_Contratar'].astype(str)"
   ],
   "metadata": {
    "collapsed": false,
    "ExecuteTime": {
     "start_time": "2023-04-23T10:12:32.720031Z",
     "end_time": "2023-04-23T10:12:38.433477Z"
    }
   }
  },
  {
   "cell_type": "markdown",
   "source": [
    "### Crear la muestra"
   ],
   "metadata": {
    "collapsed": false
   }
  },
  {
   "cell_type": "code",
   "execution_count": 8,
   "outputs": [],
   "source": [
    "## Crear la muestra\n",
    "datos_sample= datos.sample(n=1800, random_state=25) #42\n",
    "#datos_sample= datos[datos['Objeto_Contratar'] == 'Servicios de Salud'].sample(n=1800, random_state=7) # Revisión JP\n",
    "#datos_sample= datos[datos['Objeto_Contratar'] != 'Servicios de Edificación, Construcción de Instalaciones y Mantenimiento'].sample(n=1800, random_state=25)"
   ],
   "metadata": {
    "collapsed": false,
    "ExecuteTime": {
     "start_time": "2023-04-23T10:12:46.151863Z",
     "end_time": "2023-04-23T10:12:46.312821Z"
    }
   }
  },
  {
   "cell_type": "markdown",
   "source": [
    "## Crear el diccionario"
   ],
   "metadata": {
    "collapsed": false
   }
  },
  {
   "cell_type": "markdown",
   "source": [
    "### Stopwords asociadas a departamentos y municipios"
   ],
   "metadata": {
    "collapsed": false
   }
  },
  {
   "cell_type": "code",
   "execution_count": 19,
   "outputs": [],
   "source": [
    "# Lectura de la información de archivo departamentos\n",
    "\n",
    "df_dpto = pd.read_csv('datos/Regiones_Departamentos.csv', sep=';')\n",
    "df_dpto = list(iter_column(df_dpto, 'Dpto_SECOP'))\n",
    "lista_dpto = []\n",
    "for i in df_dpto:\n",
    "    lista_dpto = lista_dpto + i\n",
    "lista_dpto = list(set(lista_dpto))\n",
    "\n",
    "# Lectura de la información de archivo municipios\n",
    "\n",
    "df_municipio = pd.read_csv('datos/Departamentos_y_municipios_de_Colombia.csv', sep=',')\n",
    "df_municipio = list(iter_column(df_municipio, 'MUNICIPIO'))\n",
    "lista_municipio = []\n",
    "for i in df_municipio:\n",
    "    lista_municipio = lista_municipio + i\n",
    "lista_municipio = list(set(lista_municipio))"
   ],
   "metadata": {
    "collapsed": false,
    "ExecuteTime": {
     "start_time": "2023-04-23T10:30:28.387774Z",
     "end_time": "2023-04-23T10:30:32.074470Z"
    }
   }
  },
  {
   "cell_type": "markdown",
   "source": [
    "### Crear diccionaro - Retirar Stopword"
   ],
   "metadata": {
    "collapsed": false
   }
  },
  {
   "cell_type": "code",
   "execution_count": 20,
   "outputs": [
    {
     "name": "stdout",
     "output_type": "stream",
     "text": [
      "Dictionary<1586 unique tokens: ['mantenimiento', 'mejoramiento', 'rita', 'venado', 'via']...>\n"
     ]
    }
   ],
   "source": [
    "## Crear el diccionario con la muestra\n",
    "\n",
    "dictionary = corpora.Dictionary(iter_column(datos_sample, 'Detalle_Objeto_Contratar'))\n",
    "#dictionary.filter_extremes(no_above=0.7) # Agregado por JP\n",
    "\n",
    "once_ids = [tokenid for tokenid, docfreq in dictionary.dfs.items() if docfreq == 1]\n",
    "\n",
    "departamento_list =  ['amazonas', 'antioquia', 'arauca', 'atlantico', 'bolivar', 'boyaca', 'caldas', 'caqueta', 'casanare', 'cauca', 'cesar', 'choco', 'cordoba', 'cundinamarca', 'guainia', 'guaviare', 'huila', 'la_guajira', 'magdalena', 'meta', 'narino', 'norte_de_santander', 'putumayo','quindio', 'risaralda', 'san_andres_y_providencia', 'santander', 'sucre', 'tolima', 'valle_del_cauca', 'vaupes', 'vichada']\n",
    "\n",
    "stoplist=['municipio', 'municipal', 'departamento', 'san', 'jose'] ##Incluir otras palabras\n",
    "stoplist= stoplist + ['santa', 'corregimiento', 'norte', 'esfuerzo', 'aunar', 'locativa', 'sur', 'oriente', 'occidente',\n",
    "                      'segun', 'jurisdiccion', 'barrio', 'etapa', 'casco', 'contrato', 'contratar'] # Agregadas por JP\n",
    "\n",
    "stoplist= stoplist + lista_dpto + lista_municipio\n",
    "\n",
    "\n",
    "#Generar una sola lista de palabras a filtrar\n",
    "stoplist = stoplist+departamento_list\n",
    "\n",
    "#Extraer los ids de las palabras de la listas de stoplist que coinciden con las palabras del diccionario\n",
    "stop_ids = [\n",
    "    dictionary.token2id[stopword]\n",
    "    for stopword in stoplist\n",
    "    if stopword in dictionary.token2id\n",
    "]\n",
    "\n",
    "#Funcion de filtrado\n",
    "\n",
    "dictionary.filter_tokens( once_ids+stop_ids)\n",
    "\n",
    "print(dictionary)"
   ],
   "metadata": {
    "collapsed": false,
    "ExecuteTime": {
     "start_time": "2023-04-23T10:30:35.869037Z",
     "end_time": "2023-04-23T10:30:44.148407Z"
    }
   }
  },
  {
   "cell_type": "markdown",
   "source": [
    "# Crear corpuos con la muestra"
   ],
   "metadata": {
    "collapsed": false
   }
  },
  {
   "cell_type": "code",
   "execution_count": 21,
   "outputs": [],
   "source": [
    "## Crear corpus con la muestra\n",
    "corpus_sample= MyCorpus_sample(dictionary, datos_sample,'Detalle_Objeto_Contratar' )"
   ],
   "metadata": {
    "collapsed": false,
    "ExecuteTime": {
     "start_time": "2023-04-23T10:30:53.871862Z",
     "end_time": "2023-04-23T10:30:53.914862Z"
    }
   }
  },
  {
   "cell_type": "markdown",
   "source": [
    "# Crear modelo LDA"
   ],
   "metadata": {
    "collapsed": false
   }
  },
  {
   "cell_type": "code",
   "execution_count": 34,
   "outputs": [
    {
     "name": "stdout",
     "output_type": "stream",
     "text": [
      "Tiempo de ejecución: 87.82198810577393\n",
      "[([(0.04593367, 'construccion'),\n",
      "   (0.02283769, 'vereda'),\n",
      "   (0.022157677, 'sector'),\n",
      "   (0.017588247, 'obra'),\n",
      "   (0.015987951, 'mejoramiento'),\n",
      "   (0.015765786, 'educativo'),\n",
      "   (0.013339201, 'sistema'),\n",
      "   (0.011352483, 'via'),\n",
      "   (0.010197057, 'instalacion'),\n",
      "   (0.01003033, 'rural'),\n",
      "   (0.009506391, 'institucion'),\n",
      "   (0.008916539, 'centro'),\n",
      "   (0.008661655, 'servicio'),\n",
      "   (0.008583785, 'sede'),\n",
      "   (0.008257428, 'adecuacion'),\n",
      "   (0.008242628, 'suministro'),\n",
      "   (0.008006046, 'urbano'),\n",
      "   (0.007782153, 'tecnico'),\n",
      "   (0.007229832, 'acueducto'),\n",
      "   (0.0066950684, 'veredar')],\n",
      "  -3.98403982282899),\n",
      " ([(0.04929297, 'mantenimiento'),\n",
      "   (0.032059297, 'via'),\n",
      "   (0.019072397, 'mejoramiento'),\n",
      "   (0.01781027, 'construccion'),\n",
      "   (0.017460138, 'adecuacion'),\n",
      "   (0.01708546, 'calle'),\n",
      "   (0.014640715, 'servicio'),\n",
      "   (0.014572542, 'obra'),\n",
      "   (0.012546616, 'carrera'),\n",
      "   (0.011872875, 'urbano'),\n",
      "   (0.011311835, 'red'),\n",
      "   (0.011024595, 'alcantarillado'),\n",
      "   (0.009689943, 'rural'),\n",
      "   (0.009094276, 'vereda'),\n",
      "   (0.0077263443, 'realizar'),\n",
      "   (0.0067801615, 'conservacion'),\n",
      "   (0.0065273126, 'rehabilitacion'),\n",
      "   (0.0064632944, 'apoyo'),\n",
      "   (0.0063589257, 'centro'),\n",
      "   (0.0063063786, 'gestion')],\n",
      "  -4.874529840651223)]\n"
     ]
    }
   ],
   "source": [
    "\n",
    "start = time.time()\n",
    "\n",
    "# Modelo Simple\n",
    "Estimacion=LdaModel(corpus_sample, num_topics=2, id2word=dictionary, passes=10, eval_every = None)\n",
    "\n",
    "top_topics = Estimacion.top_topics(corpus_sample)\n",
    "num_topics=5\n",
    "\n",
    "# Imprimir tiempo de procesamiento\n",
    "end = time.time()\n",
    "print(\"Tiempo de ejecución: \" +str(end - start))\n",
    "\n",
    "\n",
    "pprint(top_topics)"
   ],
   "metadata": {
    "collapsed": false,
    "ExecuteTime": {
     "start_time": "2023-04-23T11:01:05.438188Z",
     "end_time": "2023-04-23T11:02:33.273002Z"
    }
   }
  },
  {
   "cell_type": "markdown",
   "source": [
    "# Busqueda de tópicos\n"
   ],
   "metadata": {
    "collapsed": false
   }
  },
  {
   "cell_type": "code",
   "execution_count": 36,
   "outputs": [],
   "source": [
    "# Crear los docucumentos preprocesados que se utilizarán para el calculo de la coherencia\n",
    "preprocessed_docs = list(iter_dataframe(datos_sample, 'Detalle_Objeto_Contratar'))\n"
   ],
   "metadata": {
    "collapsed": false
   }
  },
  {
   "cell_type": "code",
   "execution_count": 30,
   "outputs": [],
   "source": [
    "# Librerías para el cálculo de la coherencia\n",
    "from gensim.models.ldamulticore import LdaMulticore\n",
    "from gensim import corpora, models\n",
    "from gensim.models.coherencemodel import CoherenceModel\n",
    "import matplotlib.pyplot as plt"
   ],
   "metadata": {
    "collapsed": false,
    "ExecuteTime": {
     "start_time": "2023-04-23T10:35:41.973591Z",
     "end_time": "2023-04-23T10:35:41.981591Z"
    }
   }
  },
  {
   "cell_type": "markdown",
   "source": [
    "## Creación de la función para encontrar el número óptimo de tópicos con coherencia"
   ],
   "metadata": {
    "collapsed": false
   }
  },
  {
   "cell_type": "code",
   "execution_count": 39,
   "outputs": [],
   "source": [
    "#Creación de la función para encontrar el número óptimo de tópicos con coherencia\n",
    "\n",
    "def find_optimal_number_of_topics_coherence(data, dictionary, preprocessed_docs, start=2, end=20, step=1, coherence_measure='c_v', coherence_topn=10, workers=None):\n",
    "    \"\"\"\n",
    "    Encuentra el número óptimo de tópicos en un modelo LDA.\n",
    "\n",
    "    Parámetros:\n",
    "    - data: un objeto gensim corpus que contiene los documentos preprocesados.\n",
    "    - dictionary: un objeto gensim Dictionary que contiene el vocabulario de todas las palabras en el corpus.\n",
    "    - preprocessed_docs: una lista de listas de tokens lematizados para cada documento.\n",
    "    - start: el número de tópicos mínimo a evaluar.\n",
    "    - end: el número de tópicos máximo a evaluar.\n",
    "    - step: el intervalo de valores entre cada número de tópicos a evaluar.\n",
    "    - coherence_measure: un string con el nombre de la medida de coherencia a utilizar (por defecto 'c_v').\n",
    "    - coherence_topn: un número entero que indica la cantidad de palabras más relevantes a considerar para la medida de coherencia.\n",
    "    - workers: el número de núcleos a utilizar para el entrenamiento del modelo LDA (por defecto None, que utiliza todos los núcleos disponibles).\n",
    "\n",
    "    Retorna:\n",
    "    - Un gráfico de línea que muestra la medida de coherencia del modelo para cada valor de num_topics evaluado.\n",
    "    \"\"\"\n",
    "\n",
    "    coherence_scores = []\n",
    "    models_list = []\n",
    "\n",
    "    for num_topics in range(start, end+1, step):\n",
    "        lda_model = LdaMulticore(corpus=data,\n",
    "                                 id2word=dictionary,\n",
    "                                 num_topics=num_topics,\n",
    "                                 random_state=42,\n",
    "                                 workers=workers)\n",
    "\n",
    "        coherence_model_lda = CoherenceModel(model=lda_model,\n",
    "                                             texts=preprocessed_docs,\n",
    "                                             dictionary=dictionary,\n",
    "                                             coherence=coherence_measure,\n",
    "                                             topn=coherence_topn)\n",
    "\n",
    "        coherence_lda = coherence_model_lda.get_coherence()\n",
    "        coherence_scores.append(coherence_lda)\n",
    "        models_list.append(lda_model)\n",
    "\n",
    "    # Plot coherence scores\n",
    "    x = range(start, end+1, step)\n",
    "    plt.plot(x, coherence_scores)\n",
    "    plt.xlabel(\"Num Topics\")\n",
    "    plt.ylabel(\"Coherence score\")\n",
    "    plt.legend((\"coherence_values\"), loc='best')\n",
    "    plt.show()\n",
    "\n",
    "    # Find the optimal number of topics\n",
    "    optimal_num_topics = x[coherence_scores.index(max(coherence_scores))]\n",
    "\n",
    "    # Print the optimal number of topics\n",
    "    print(\"Optimal number of topics: \", optimal_num_topics)\n",
    "\n",
    "    # Return the models list and coherence scores\n",
    "    return models_list, coherence_scores"
   ],
   "metadata": {
    "collapsed": false,
    "ExecuteTime": {
     "start_time": "2023-04-23T11:12:31.285331Z",
     "end_time": "2023-04-23T11:12:31.296327Z"
    }
   }
  },
  {
   "cell_type": "markdown",
   "source": [
    "## Encontrar el número óptimo de tópicos con coherencia"
   ],
   "metadata": {
    "collapsed": false
   }
  },
  {
   "cell_type": "code",
   "execution_count": 40,
   "outputs": [
    {
     "data": {
      "text/plain": "<Figure size 640x480 with 1 Axes>",
      "image/png": "[encoded data removed]"
     },
     "metadata": {},
     "output_type": "display_data"
    },
    {
     "name": "stdout",
     "output_type": "stream",
     "text": [
      "Optimal number of topics:  8\n"
     ]
    }
   ],
   "source": [
    "models_list, coherence_scores = find_optimal_number_of_topics(data=corpus_sample,\n",
    "                                                              dictionary=dictionary,\n",
    "                                                              preprocessed_docs=preprocessed_docs,\n",
    "                                                              start=2,\n",
    "                                                              end=20,\n",
    "                                                              step=1,\n",
    "                                                              coherence_measure='c_v',\n",
    "                                                              coherence_topn=10,\n",
    "                                                              workers=4)"
   ],
   "metadata": {
    "collapsed": false,
    "ExecuteTime": {
     "start_time": "2023-04-23T11:12:33.316633Z",
     "end_time": "2023-04-23T11:18:31.566123Z"
    }
   }
  },
  {
   "cell_type": "markdown",
   "source": [
    "## Creación de corpus TF-IDF"
   ],
   "metadata": {
    "collapsed": false
   }
  },
  {
   "cell_type": "markdown",
   "source": [
    "Este paso es opcional. El modelo se podría tarabajar directamente con el corpus_sample creado anteriormente. Sin embargo, se recomienda utilizar TF-IDF para mejorar la calidad del modelo."
   ],
   "metadata": {
    "collapsed": false
   }
  },
  {
   "cell_type": "code",
   "execution_count": 52,
   "outputs": [],
   "source": [
    "from gensim.models import TfidfModel\n",
    "tfidf_model = TfidfModel(corpus_sample)\n",
    "corpus_tfidf = list(tfidf_model[corpus_sample])"
   ],
   "metadata": {
    "collapsed": false,
    "ExecuteTime": {
     "start_time": "2023-04-23T11:57:30.433935Z",
     "end_time": "2023-04-23T11:57:44.148159Z"
    }
   }
  },
  {
   "cell_type": "markdown",
   "source": [
    "# Modelo LDA Optimizado"
   ],
   "metadata": {
    "collapsed": false
   }
  },
  {
   "cell_type": "code",
   "execution_count": 53,
   "outputs": [],
   "source": [
    "## La librería cupy permite acelerar el procesamiento en GPU, sin embargo solo trabaja con versiones de python inferiores a 3.10 (la que estoy utilizando) Se sugiere utilizar esto cuando vayamos aumentando el tamñaño del corpus. Para eso el corpus debe convertirse en un array de cupy.\n",
    "\n",
    "#import cupy as cp\n",
    "from gensim.models import LdaMulticore\n",
    "\n",
    "# Establecer el número de núcleos a utilizar\n",
    "num_cores = 6\n",
    "\n",
    "# Experimentar con diferentes valores de chunksize\n",
    "chunk_sizes = [1000, 5000, 10000]\n",
    "chunk_size = chunk_sizes[0]\n",
    "for cs in chunk_sizes:\n",
    "    if len(list(corpus_sample)) / cs > num_cores:\n",
    "        chunk_size = cs\n",
    "        break\n",
    "\n",
    "# Ajustar alpha y eta en función del tipo de corpus y los objetivos del modelo\n",
    "alpha = 0.1\n",
    "eta = 0.5\n",
    "\n",
    "# Utilizar cupy para acelerar el procesamiento en GPU\n",
    "#cp.cuda.Device(0).use()\n",
    "#corpus_cupy = cp.array(corpus_sample)\n",
    "\n",
    "num_topics = 8\n",
    "\n",
    "# Entrenar el modelo LDA con los parámetros optimizados\n",
    "lda_model_8 = LdaMulticore(corpus=corpus_tfidf,\n",
    "                         id2word=dictionary,\n",
    "                         num_topics=num_topics,\n",
    "                         random_state=42,\n",
    "                         workers=num_cores,\n",
    "                         chunksize=chunk_size,\n",
    "                         alpha=alpha,\n",
    "                         eta=eta,\n",
    "                         per_word_topics=True,\n",
    "                         minimum_probability=0.001,\n",
    "                         minimum_phi_value=0.001)"
   ],
   "metadata": {
    "collapsed": false,
    "ExecuteTime": {
     "start_time": "2023-04-23T11:58:00.285484Z",
     "end_time": "2023-04-23T11:58:26.373833Z"
    }
   }
  },
  {
   "cell_type": "markdown",
   "source": [
    "## Visualización del modelo LDA"
   ],
   "metadata": {
    "collapsed": false
   }
  },
  {
   "cell_type": "code",
   "execution_count": 54,
   "outputs": [
    {
     "name": "stderr",
     "output_type": "stream",
     "text": [
      "C:\\Users\\PC\\anaconda3\\envs\\TFG\\lib\\site-packages\\pyLDAvis\\_prepare.py:244: FutureWarning: In a future version of pandas all arguments of DataFrame.drop except for the argument 'labels' will be keyword-only.\n",
      "  by='saliency', ascending=False).head(R).drop('saliency', 1)\n"
     ]
    }
   ],
   "source": [
    "pyLDAvis.enable_notebook()\n",
    "LDA_visualization = gensimvis.prepare(lda_model_8, list(corpus_sample), dictionary)\n",
    "\n",
    "pyLDAvis.save_html(LDA_visualization, 'lda_8.HTML')\n",
    "#LDA_visualization"
   ],
   "metadata": {
    "collapsed": false,
    "ExecuteTime": {
     "start_time": "2023-04-23T11:58:29.942031Z",
     "end_time": "2023-04-23T11:58:41.546939Z"
    }
   }
  },
  {
   "cell_type": "markdown",
   "source": [
    "# Método para incluir bigramas y trigramas en el modelo"
   ],
   "metadata": {
    "collapsed": false
   }
  },
  {
   "cell_type": "code",
   "execution_count": null,
   "outputs": [],
   "source": [
    "from gensim.models.phrases import Phrases, Phraser"
   ],
   "metadata": {
    "collapsed": false
   }
  },
  {
   "cell_type": "code",
   "execution_count": null,
   "outputs": [],
   "source": [
    "\n",
    "tokenized_docs = list(iter_dataframe(datos_sample, 'Detalle_Objeto_Contratar'))"
   ],
   "metadata": {
    "collapsed": false
   }
  },
  {
   "cell_type": "code",
   "execution_count": null,
   "outputs": [],
   "source": [
    "bigram_phrases = Phrases(tokenized_docs, min_count=5, threshold=10)\n",
    "bigram_model = Phraser(bigram_phrases)"
   ],
   "metadata": {
    "collapsed": false
   }
  },
  {
   "cell_type": "code",
   "execution_count": null,
   "outputs": [],
   "source": [
    "bigram_docs = [bigram_model[doc] for doc in tokenized_docs]"
   ],
   "metadata": {
    "collapsed": false
   }
  },
  {
   "cell_type": "code",
   "execution_count": 55,
   "outputs": [
    {
     "ename": "NameError",
     "evalue": "name 'Phrases' is not defined",
     "output_type": "error",
     "traceback": [
      "\u001B[1;31m---------------------------------------------------------------------------\u001B[0m",
      "\u001B[1;31mNameError\u001B[0m                                 Traceback (most recent call last)",
      "Cell \u001B[1;32mIn[55], line 1\u001B[0m\n\u001B[1;32m----> 1\u001B[0m trigram_phrases \u001B[38;5;241m=\u001B[39m \u001B[43mPhrases\u001B[49m(bigram_docs, min_count\u001B[38;5;241m=\u001B[39m\u001B[38;5;241m5\u001B[39m, threshold\u001B[38;5;241m=\u001B[39m\u001B[38;5;241m10\u001B[39m)\n\u001B[0;32m      2\u001B[0m trigram_model \u001B[38;5;241m=\u001B[39m Phraser(trigram_phrases)\n",
      "\u001B[1;31mNameError\u001B[0m: name 'Phrases' is not defined"
     ]
    }
   ],
   "source": [
    "trigram_phrases = Phrases(bigram_docs, min_count=5, threshold=10)\n",
    "trigram_model = Phraser(trigram_phrases)"
   ],
   "metadata": {
    "collapsed": false
   }
  },
  {
   "cell_type": "code",
   "execution_count": null,
   "outputs": [],
   "source": [
    "trigram_docs = [trigram_model[doc] for doc in bigram_docs]"
   ],
   "metadata": {
    "collapsed": false
   }
  },
  {
   "cell_type": "code",
   "execution_count": null,
   "outputs": [],
   "source": [
    "# Crear un nuevo diccionario utilizando bigram_docs\n",
    "bigram_dictionary = corpora.Dictionary(bigram_docs)\n",
    "\n",
    "\n",
    "# Crear un nuevo corpus utilizando bigram_docs y el nuevo diccionario\n",
    "bigram_corpus = MyCorpus_sample(bigram_dictionary, datos_sample, 'Detalle_Objeto_Contratar')"
   ],
   "metadata": {
    "collapsed": false
   }
  },
  {
   "cell_type": "markdown",
   "source": [
    "## Ejemplo de modelo con bigramas"
   ],
   "metadata": {
    "collapsed": false
   }
  },
  {
   "cell_type": "code",
   "execution_count": null,
   "outputs": [],
   "source": [
    "\n",
    "start = time.time()\n",
    "\n",
    "# Modelo Simple\n",
    "lda_model = LdaMulticore(bigram_corpus, num_topics=2, id2word=bigram_dictionary, passes=10, workers=4)\n",
    "\n",
    "top_topics = lda_model.top_topics(bigram_corpus)\n",
    "num_topics=2\n",
    "\n",
    "# Imprimir tiempo de procesamiento\n",
    "end = time.time()\n",
    "print(\"Tiempo de ejecución: \" +str(end - start))\n",
    "\n",
    "\n",
    "pprint(top_topics)"
   ],
   "metadata": {
    "collapsed": false
   }
  },
  {
   "cell_type": "markdown",
   "source": [
    "# Función para visualizar los tópicos con perplejidad"
   ],
   "metadata": {
    "collapsed": false
   }
  },
  {
   "cell_type": "code",
   "execution_count": null,
   "outputs": [],
   "source": [
    "def find_optimal_number_of_topics_perplexity(data, dictionary, start=2, end=20, step=1, workers=None):\n",
    "    \"\"\"\n",
    "    Encuentra el número óptimo de tópicos en un modelo LDA utilizando la medida de perplejidad.\n",
    "\n",
    "    Parámetros:\n",
    "    - data: un objeto gensim corpus que contiene los documentos preprocesados.\n",
    "    - dictionary: un objeto gensim Dictionary que contiene el vocabulario de todas las palabras en el corpus.\n",
    "    - start: el número de tópicos mínimo a evaluar.\n",
    "    - end: el número de tópicos máximo a evaluar.\n",
    "    - step: el intervalo de valores entre cada número de tópicos a evaluar.\n",
    "    - workers: el número de núcleos a utilizar para el entrenamiento del modelo LDA (por defecto None, que utiliza todos los núcleos disponibles).\n",
    "\n",
    "    Retorna:\n",
    "    - Un gráfico de línea que muestra la medida de perplejidad del modelo para cada valor de num_topics evaluado.\n",
    "    \"\"\"\n",
    "\n",
    "    perplexity_scores = []\n",
    "    models_list = []\n",
    "\n",
    "    for num_topics in range(start, end+1, step):\n",
    "        lda_model = LdaMulticore(corpus=data,\n",
    "                                 id2word=dictionary,\n",
    "                                 num_topics=num_topics,\n",
    "                                 random_state=42,\n",
    "                                 workers=workers)\n",
    "\n",
    "        perplexity_lda = lda_model.log_perplexity(data)\n",
    "        perplexity_scores.append(perplexity_lda)\n",
    "        models_list.append(lda_model)\n",
    "\n",
    "    # Plot perplexity scores\n",
    "    x = range(start, end+1, step)\n",
    "    plt.plot(x, perplexity_scores)\n",
    "    plt.xlabel(\"Num Topics\")\n",
    "    plt.ylabel(\"Perplexity score\")\n",
    "    plt.legend((\"perplexity_values\"), loc='best')\n",
    "    plt.show()\n",
    "\n",
    "    # Find the optimal number of topics\n",
    "    optimal_num_topics = x[perplexity_scores.index(min(perplexity_scores))]\n",
    "\n",
    "    # Print the optimal number of topics\n",
    "    print(\"Optimal number of topics: \", optimal_num_topics)\n",
    "\n",
    "    # Return the models list and perplexity scores\n",
    "    return models_list, perplexity_scores"
   ],
   "metadata": {
    "collapsed": false
   }
  },
  {
   "cell_type": "code",
   "execution_count": null,
   "outputs": [],
   "source": [],
   "metadata": {
    "collapsed": false
   }
  }
 ],
 "metadata": {
  "kernelspec": {
   "display_name": "Python 3",
   "language": "python",
   "name": "python3"
  },
  "language_info": {
   "codemirror_mode": {
    "name": "ipython",
    "version": 2
   },
   "file_extension": ".py",
   "mimetype": "text/x-python",
   "name": "python",
   "nbconvert_exporter": "python",
   "pygments_lexer": "ipython2",
   "version": "2.7.6"
  }
 },
 "nbformat": 4,
 "nbformat_minor": 0
}
